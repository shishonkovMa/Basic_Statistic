{
 "cells": [
  {
   "cell_type": "markdown",
   "metadata": {},
   "source": [
    "# Task 1\n",
    "\n",
    "Assume that we want to perform one-sample t-test with null hypothesis EX=0 and an alternative EX>0. We have an i.i.d. sample x=(x1,…,xn) from X. Let n=100. To simplify calculations, let us assume that we have large enough sample to reliably estimate variance of X from the data and apply central limit theorem. In other words, we will assume that sample mean x¯ is distributed under normal law with expected value EX and variance that is equal to Var+(x)/n, where Var+(x) is unbiased sample variance of x. Assume that Var+(x)=5.\n",
    "\n",
    "Find value xcrit such that probability to observe x¯≥xcrit is equal to 0.05. (Use scipy.stats.norm.ppf.)"
   ]
  },
  {
   "cell_type": "code",
   "execution_count": 1,
   "metadata": {},
   "outputs": [
    {
     "data": {
      "text/plain": [
       "0.3678004522900572"
      ]
     },
     "execution_count": 1,
     "metadata": {},
     "output_type": "execute_result"
    }
   ],
   "source": [
    "import numpy as np\n",
    "import scipy.stats\n",
    "\n",
    "\n",
    "mu_0 = 0\n",
    "sample_size = 100\n",
    "significance_level = 0.05\n",
    "\n",
    "x_crit = scipy.stats.norm(mu_0, np.sqrt(5/sample_size)).ppf(1 - 0.05)\n",
    "x_crit"
   ]
  },
  {
   "cell_type": "markdown",
   "metadata": {},
   "source": [
    "# Task 2\n",
    "\n",
    "Assume that correct EX=0.5. Find probability to observe x¯<xcrit in this case. (Use xcrit found previously. Take into account correct distribution of x¯.)"
   ]
  },
  {
   "cell_type": "code",
   "execution_count": 2,
   "metadata": {},
   "outputs": [
    {
     "data": {
      "text/plain": [
       "0.2771884043107984"
      ]
     },
     "execution_count": 2,
     "metadata": {},
     "output_type": "execute_result"
    }
   ],
   "source": [
    "mu_0 = 0.5\n",
    "scipy.stats.norm(mu_0, np.sqrt(5/100)).cdf(x_crit)"
   ]
  },
  {
   "cell_type": "markdown",
   "metadata": {},
   "source": [
    "# Task 3\n",
    "\n",
    "F​ind probability to not reject null hypothesis under these conditions. Enter numeric value with two digits after the decimal point.\n",
    "\n",
    "Answer: the same like in a previous task."
   ]
  }
 ],
 "metadata": {
  "kernelspec": {
   "display_name": "Python 3",
   "language": "python",
   "name": "python3"
  },
  "language_info": {
   "codemirror_mode": {
    "name": "ipython",
    "version": 3
   },
   "file_extension": ".py",
   "mimetype": "text/x-python",
   "name": "python",
   "nbconvert_exporter": "python",
   "pygments_lexer": "ipython3",
   "version": "3.8.10"
  }
 },
 "nbformat": 4,
 "nbformat_minor": 4
}
