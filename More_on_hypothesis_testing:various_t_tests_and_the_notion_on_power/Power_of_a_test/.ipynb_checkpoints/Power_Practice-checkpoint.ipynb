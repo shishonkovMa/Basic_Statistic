{
 "cells": [
  {
   "cell_type": "markdown",
   "metadata": {},
   "source": [
    "# Task 1\n",
    "Consider binomial test. Let X be binomially distributed random variable with n trials and probability of succcess p. Null hypothesis is p=1/2, alternative is p>1/2. We perform a test with significance level 5%. Let n=10. For which values of Xobs sampled from X would you reject null hypothesis? (In other words: how many times a magician have to guess the result of coin tossing correctly if we toss a coin 10 times?)."
   ]
  },
  {
   "cell_type": "code",
   "execution_count": 1,
   "metadata": {},
   "outputs": [],
   "source": [
    "from math import factorial as f\n",
    "\n",
    "def n(kolvo, win, p):\n",
    "    return (f(kolvo)/f(win)/f(kolvo-win)) * (p**(win))*((1-p)**(kolvo-win))"
   ]
  },
  {
   "cell_type": "code",
   "execution_count": 2,
   "metadata": {},
   "outputs": [
    {
     "name": "stdout",
     "output_type": "stream",
     "text": [
      "0 true answers:  0.0009765625\n",
      "1 true answers:  0.009765625\n",
      "2 true answers:  0.0439453125\n",
      "3 true answers:  0.1171875\n",
      "4 true answers:  0.205078125\n",
      "5 true answers:  0.24609375\n",
      "6 true answers:  0.205078125\n",
      "7 true answers:  0.1171875\n",
      "8 true answers:  0.0439453125\n",
      "9 true answers:  0.009765625\n",
      "10 true answers:  0.0009765625\n"
     ]
    }
   ],
   "source": [
    "kolvo = 10\n",
    "for i in range(0, kolvo+1):\n",
    "    print(f'{i} true answers: ' , n(kolvo, i, 0.5))"
   ]
  },
  {
   "cell_type": "markdown",
   "metadata": {},
   "source": [
    "Then answer: 9,10. \n",
    "\n",
    "# Task 2\n",
    "Assume that correct value of p equals to 2/3 (but you don't know it). What is the probability to reject null hypothesis using the criteria you stated in the previous question? "
   ]
  },
  {
   "cell_type": "code",
   "execution_count": 3,
   "metadata": {},
   "outputs": [
    {
     "name": "stdout",
     "output_type": "stream",
     "text": [
      "0 true answers:  1.6935087808430306e-05\n",
      "1 true answers:  0.00033870175616860604\n",
      "2 true answers:  0.003048315805517454\n",
      "3 true answers:  0.016257684296093085\n",
      "4 true answers:  0.05690189503632579\n",
      "5 true answers:  0.13656454808718185\n",
      "6 true answers:  0.2276075801453031\n",
      "7 true answers:  0.2601229487374892\n",
      "8 true answers:  0.19509221155311685\n",
      "9 true answers:  0.08670764957916303\n",
      "10 true answers:  0.017341529915832606\n"
     ]
    },
    {
     "data": {
      "text/plain": [
       "0.10404917949499565"
      ]
     },
     "execution_count": 3,
     "metadata": {},
     "output_type": "execute_result"
    }
   ],
   "source": [
    "for i in range(0, kolvo+1):\n",
    "    print(f'{i} true answers: ' , n(kolvo, i, 2/3))\n",
    "    \n",
    "0.08670764957916303 + 0.017341529915832606"
   ]
  },
  {
   "cell_type": "markdown",
   "metadata": {},
   "source": [
    "# Task 3\n",
    "W​hat is the probability to not reject null hypothesis in this case? "
   ]
  },
  {
   "cell_type": "code",
   "execution_count": 4,
   "metadata": {},
   "outputs": [
    {
     "data": {
      "text/plain": [
       "0.8959508205050044"
      ]
     },
     "execution_count": 4,
     "metadata": {},
     "output_type": "execute_result"
    }
   ],
   "source": [
    "1-0.10404917949499565"
   ]
  },
  {
   "cell_type": "markdown",
   "metadata": {},
   "source": [
    "# Task 4\n",
    "W​hat is the power of our test under these conditions?\n",
    "\n",
    "Answer: 0.10404917949499565"
   ]
  },
  {
   "cell_type": "markdown",
   "metadata": {},
   "source": [
    "# Task 5\n",
    "What is the power of our test if p equals to 3/4?"
   ]
  },
  {
   "cell_type": "code",
   "execution_count": 5,
   "metadata": {},
   "outputs": [
    {
     "name": "stdout",
     "output_type": "stream",
     "text": [
      "0 true answers:  9.5367431640625e-07\n",
      "1 true answers:  2.86102294921875e-05\n",
      "2 true answers:  0.00038623809814453125\n",
      "3 true answers:  0.00308990478515625\n",
      "4 true answers:  0.016222000122070312\n",
      "5 true answers:  0.058399200439453125\n",
      "6 true answers:  0.1459980010986328\n",
      "7 true answers:  0.25028228759765625\n",
      "8 true answers:  0.2815675735473633\n",
      "9 true answers:  0.1877117156982422\n",
      "10 true answers:  0.056313514709472656\n",
      "Answer:  0.24402523040771484\n"
     ]
    }
   ],
   "source": [
    "kolvo = 10\n",
    "for i in range(0, kolvo+1):\n",
    "    print(f'{i} true answers: ' , n(kolvo, i, 3/4))\n",
    "    \n",
    "print('Answer: ', 0.1877117156982422+0.056313514709472656)"
   ]
  },
  {
   "cell_type": "markdown",
   "metadata": {},
   "source": [
    "# Another example\n",
    "# Task 1\n",
    "\n",
    "Consider binomial test. Let X be binomially distributed random variable with n trials and probability of succcess p. Null hypothesis is p=1/2, alternative is p≠1/2. We perform a test with significance level 5%. Let n=10. For which values of  sampled from X would you reject null hypothesis? (In other words: how many times a magician have to guess the result of coin tossing correctly if we toss a coin 10 times?) "
   ]
  },
  {
   "cell_type": "code",
   "execution_count": 6,
   "metadata": {},
   "outputs": [
    {
     "name": "stdout",
     "output_type": "stream",
     "text": [
      "0 true answers:  0.0009765625\n",
      "1 true answers:  0.009765625\n",
      "2 true answers:  0.0439453125\n",
      "3 true answers:  0.1171875\n",
      "4 true answers:  0.205078125\n",
      "5 true answers:  0.24609375\n",
      "6 true answers:  0.205078125\n",
      "7 true answers:  0.1171875\n",
      "8 true answers:  0.0439453125\n",
      "9 true answers:  0.009765625\n",
      "10 true answers:  0.0009765625\n"
     ]
    }
   ],
   "source": [
    "kolvo = 10\n",
    "for i in range(0, kolvo+1):\n",
    "    print(f'{i} true answers: ' , n(kolvo, i, 0.5))"
   ]
  },
  {
   "cell_type": "markdown",
   "metadata": {},
   "source": [
    "Answer: 0,1,9,10"
   ]
  },
  {
   "cell_type": "markdown",
   "metadata": {},
   "source": [
    "# Task 2\n",
    "\n",
    "Assume that correct value of p equals to 2/3 (but you don't know it). What is the probability to reject null hypothesis using the criteria you stated in the previous question?"
   ]
  },
  {
   "cell_type": "code",
   "execution_count": 7,
   "metadata": {},
   "outputs": [
    {
     "name": "stdout",
     "output_type": "stream",
     "text": [
      "0 true answers:  1.6935087808430306e-05\n",
      "1 true answers:  0.00033870175616860604\n",
      "2 true answers:  0.003048315805517454\n",
      "3 true answers:  0.016257684296093085\n",
      "4 true answers:  0.05690189503632579\n",
      "5 true answers:  0.13656454808718185\n",
      "6 true answers:  0.2276075801453031\n",
      "7 true answers:  0.2601229487374892\n",
      "8 true answers:  0.19509221155311685\n",
      "9 true answers:  0.08670764957916303\n",
      "10 true answers:  0.017341529915832606\n",
      "Answer:  0.10440481633897267\n"
     ]
    }
   ],
   "source": [
    "kolvo = 10\n",
    "for i in range(0, kolvo+1):\n",
    "    print(f'{i} true answers: ' , n(kolvo, i, 2/3))\n",
    "    \n",
    "print('Answer: ', 1.6935087808430306e-05+ 0.00033870175616860604+ 0.08670764957916303+ 0.017341529915832606)"
   ]
  },
  {
   "cell_type": "markdown",
   "metadata": {},
   "source": [
    "# Task 3\n",
    "\n",
    "What is the power of our test under these conditions? Enter numeric value with 8 digits after the decimal point."
   ]
  },
  {
   "cell_type": "code",
   "execution_count": 8,
   "metadata": {},
   "outputs": [
    {
     "name": "stdout",
     "output_type": "stream",
     "text": [
      "Answer:  0.10440481633897267\n"
     ]
    }
   ],
   "source": [
    "print('Answer: ', 1.6935087808430306e-05+ 0.00033870175616860604+ 0.08670764957916303+ 0.017341529915832606)"
   ]
  },
  {
   "cell_type": "markdown",
   "metadata": {},
   "source": [
    "# Task 4\n",
    "\n",
    "What is the power of our test if p equals to 3/4? Enter numeric value with 6 digits after the decimal point."
   ]
  },
  {
   "cell_type": "code",
   "execution_count": 9,
   "metadata": {},
   "outputs": [
    {
     "name": "stdout",
     "output_type": "stream",
     "text": [
      "0 true answers:  9.5367431640625e-07\n",
      "1 true answers:  2.86102294921875e-05\n",
      "2 true answers:  0.00038623809814453125\n",
      "3 true answers:  0.00308990478515625\n",
      "4 true answers:  0.016222000122070312\n",
      "5 true answers:  0.058399200439453125\n",
      "6 true answers:  0.1459980010986328\n",
      "7 true answers:  0.25028228759765625\n",
      "8 true answers:  0.2815675735473633\n",
      "9 true answers:  0.1877117156982422\n",
      "10 true answers:  0.056313514709472656\n"
     ]
    },
    {
     "data": {
      "text/plain": [
       "0.24405479431152344"
      ]
     },
     "execution_count": 9,
     "metadata": {},
     "output_type": "execute_result"
    }
   ],
   "source": [
    "kolvo = 10\n",
    "for i in range(0, kolvo+1):\n",
    "    print(f'{i} true answers: ' , n(kolvo, i, 3/4))\n",
    "\n",
    "9.5367431640625e-07+2.86102294921875e-05+0.1877117156982422+0.056313514709472656 # 0 + 1 + 9 + 10"
   ]
  },
  {
   "cell_type": "markdown",
   "metadata": {},
   "source": [
    "Answer: 0.24405"
   ]
  },
  {
   "cell_type": "code",
   "execution_count": null,
   "metadata": {},
   "outputs": [],
   "source": []
  }
 ],
 "metadata": {
  "kernelspec": {
   "display_name": "Python 3",
   "language": "python",
   "name": "python3"
  },
  "language_info": {
   "codemirror_mode": {
    "name": "ipython",
    "version": 3
   },
   "file_extension": ".py",
   "mimetype": "text/x-python",
   "name": "python",
   "nbconvert_exporter": "python",
   "pygments_lexer": "ipython3",
   "version": "3.8.10"
  }
 },
 "nbformat": 4,
 "nbformat_minor": 4
}
