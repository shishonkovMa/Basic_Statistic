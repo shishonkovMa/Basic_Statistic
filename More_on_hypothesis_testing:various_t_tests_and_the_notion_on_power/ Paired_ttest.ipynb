{
 "cells": [
  {
   "cell_type": "markdown",
   "metadata": {},
   "source": [
    "# Task 1\n",
    "Assume you have two machine learning algorithms and you want to decide which one is better. When you apply algorithm to a dataset, you obtain its accuracy score on this dataset. However, due to some randomness in the algorithm and testing procedure, every time you run algorithm you get slighly different accuracy score. \n",
    "\n",
    "Assume you have one dataset. You run each algorithm 10 times on the same dataset and obtain two 10-element collections of accuracy scores. \n",
    "\n",
    "Select statistical test that you will use in these case. \n",
    "\n",
    "**Answer: two-sample t-test**"
   ]
  },
  {
   "cell_type": "markdown",
   "metadata": {},
   "source": [
    "# Task 2\n",
    "\n",
    "N​ow assume that you have 10 different datasets. You run each algorithm on each dataset one time. Now you again have two 10-element collections of accuracy scores. \n",
    "\n",
    "Select statistical test that you will use in these case.\n",
    "\n",
    "**Answer: p​aired t-test**"
   ]
  },
  {
   "cell_type": "markdown",
   "metadata": {},
   "source": [
    "# Task 3\n",
    "\n",
    "You have the following data on average number of cats per 1000 citizens in different cities in 2000 and 2020 years (all data is artificial).\n",
    "\n",
    "You want to answer the question: are there any statistically significant changes in the number of cats per 1000 citizens in these two years.\n",
    "\n",
    "L​et us try two-sample t-test first. Consider values in columns 2000 and 2020 as two independent samples, apply two-sample t-test with symmetrical alternative and enter p-value obtained."
   ]
  },
  {
   "cell_type": "code",
   "execution_count": 1,
   "metadata": {},
   "outputs": [
    {
     "data": {
      "text/plain": [
       "Ttest_indResult(statistic=-0.3038412337952006, pvalue=0.7715100414727278)"
      ]
     },
     "execution_count": 1,
     "metadata": {},
     "output_type": "execute_result"
    }
   ],
   "source": [
    "from scipy.stats import ttest_ind, ttest_1samp, ttest_rel\n",
    "\n",
    "\n",
    "_2000 = [300, 320, 200,700]\n",
    "_2020 = [350, 370, 240, 750]\n",
    "\n",
    "ttest_ind(_2000, _2020)"
   ]
  },
  {
   "cell_type": "markdown",
   "metadata": {},
   "source": [
    "# Task 4\n",
    "\n",
    "P​rovide an interpretation of this result. Use 5% significance level. Mark all correct statements.\n",
    "\n",
    "**Answer:**\n",
    "    - D​ifference between 2000 and 2020 is insignificant according to the performed t-test.\n",
    "    - W​e do not have enough data to detect difference between 2000 and 2020 with two-sample t-test."
   ]
  },
  {
   "cell_type": "markdown",
   "metadata": {},
   "source": [
    "# Task 5\n",
    "\n",
    "N​ow let us consider difference between 2020 in 2000 for each city.\n",
    "\n",
    "L​et us model numbers in the last column as an i.i.d. sample from some random variable X. Our null hypothesis is that there are no systematic changes between 2020 and 2000 and all the differences are just due to random flukes. What is the expected value of X provided that null hypothesis holds?\n",
    "\n",
    "**Answer: obviously, this is 0**"
   ]
  },
  {
   "cell_type": "markdown",
   "metadata": {},
   "source": [
    "# Task 6\n",
    "\n",
    "N​ow let us use 1-sample t-test to test null hypothesis that values in column \"diff\" are obtained from population (random variable) with zero mean. Use symmetric alternative. Find p-value."
   ]
  },
  {
   "cell_type": "code",
   "execution_count": 2,
   "metadata": {},
   "outputs": [
    {
     "data": {
      "text/plain": [
       "Ttest_1sampResult(statistic=19.0, pvalue=0.00031834344007115753)"
      ]
     },
     "execution_count": 2,
     "metadata": {},
     "output_type": "execute_result"
    }
   ],
   "source": [
    "diff = [50, 50, 40, 50]\n",
    "ttest_1samp(diff, 0)"
   ]
  },
  {
   "cell_type": "markdown",
   "metadata": {},
   "source": [
    "# Task 7\n",
    "\n",
    "P​rovide an interpretation of this result. Use significance level 5%.\n",
    "\n",
    "**Answer:**\n",
    "    - There is statistically significant difference between 2020 and 2000: more cats in 2020."
   ]
  },
  {
   "cell_type": "markdown",
   "metadata": {},
   "source": [
    "# Task 8\n",
    "\n",
    "N​ow let us apply paired t-test to our initial samples."
   ]
  },
  {
   "cell_type": "code",
   "execution_count": 3,
   "metadata": {},
   "outputs": [
    {
     "data": {
      "text/plain": [
       "Ttest_relResult(statistic=-19.0, pvalue=0.00031834344007115753)"
      ]
     },
     "execution_count": 3,
     "metadata": {},
     "output_type": "execute_result"
    }
   ],
   "source": [
    "ttest_rel(_2000, _2020, axis=0, alternative='two-sided')"
   ]
  },
  {
   "cell_type": "markdown",
   "metadata": {},
   "source": [
    "# Task 9\n",
    "\n",
    "F​inally, we used two different statistical tests to answer the same question: are there any significant difference between 2020 and 2000, and obtained different results: with two-sample t-test we do not reject null hypothesis, with paired t-teset we reject null hypothesis. How can we explain this contradictions? Mark all correct statements.\n",
    "\n",
    "**Answer:**\n",
    "    - B​oth tests can theoretically be applied. However, two-sample t-test ignores important information that values in our samples are related to each other (i.e. first elements of both samples are related to the the same city). It decreases its power, the ability to detect differences, as compared with paired t-test. And in this case due to limited power two-sample t-test didn't reject null hypothesis (and most probably made type II error) while paired t-test rejected null hypothesis. We can trust the results of paired t-test in this case."
   ]
  },
  {
   "cell_type": "code",
   "execution_count": null,
   "metadata": {},
   "outputs": [],
   "source": []
  }
 ],
 "metadata": {
  "kernelspec": {
   "display_name": "Python 3",
   "language": "python",
   "name": "python3"
  },
  "language_info": {
   "codemirror_mode": {
    "name": "ipython",
    "version": 3
   },
   "file_extension": ".py",
   "mimetype": "text/x-python",
   "name": "python",
   "nbconvert_exporter": "python",
   "pygments_lexer": "ipython3",
   "version": "3.8.10"
  }
 },
 "nbformat": 4,
 "nbformat_minor": 4
}
