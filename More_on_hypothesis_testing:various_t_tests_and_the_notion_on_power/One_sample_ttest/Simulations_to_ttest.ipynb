{
 "cells": [
  {
   "cell_type": "markdown",
   "metadata": {},
   "source": [
    "# Using simulations to test t-test"
   ]
  },
  {
   "cell_type": "code",
   "execution_count": 5,
   "metadata": {},
   "outputs": [],
   "source": [
    "import numpy as np\n",
    "from scipy.stats import ttest_1samp"
   ]
  },
  {
   "cell_type": "markdown",
   "metadata": {},
   "source": [
    "### Normal distribution\n",
    "\n",
    "Sample size = 10"
   ]
  },
  {
   "cell_type": "code",
   "execution_count": 6,
   "metadata": {},
   "outputs": [
    {
     "name": "stdout",
     "output_type": "stream",
     "text": [
      "0.0514\n"
     ]
    }
   ],
   "source": [
    "sample_size = 10\n",
    "iterations = 10000\n",
    "significance_level = 0.05\n",
    "fp_counter = 0\n",
    "for i in range(iterations):\n",
    "    sample = np.random.normal(size=sample_size)\n",
    "    t_stat, pvalue = ttest_1samp(sample, 0)\n",
    "    if pvalue < significance_level: # condition for reject null hypotesis\n",
    "        fp_counter += 1\n",
    "\n",
    "print(fp_counter/iterations) # the frequency of rejection of the null hypothesis. \n",
    "                             # i.e., making a mistake of the 1st kind (falsly reject null hypotesis)"
   ]
  },
  {
   "cell_type": "markdown",
   "metadata": {},
   "source": [
    "Sample size = 3"
   ]
  },
  {
   "cell_type": "code",
   "execution_count": 10,
   "metadata": {},
   "outputs": [
    {
     "name": "stdout",
     "output_type": "stream",
     "text": [
      "0.0515\n"
     ]
    }
   ],
   "source": [
    "sample_size = 3\n",
    "iterations = 10000\n",
    "significance_level = 0.05\n",
    "fp_counter = 0\n",
    "for i in range(iterations):\n",
    "    sample = np.random.normal(size=sample_size)\n",
    "    t_stat, pvalue = ttest_1samp(sample, 0)\n",
    "    if pvalue < significance_level: # condition for reject null hypotesis\n",
    "        fp_counter += 1\n",
    "\n",
    "print(fp_counter/iterations) # the frequency of rejection of the null hypothesis. \n",
    "                             # i.e., making a mistake of the 1st kind (falsly reject null hypotesis)"
   ]
  },
  {
   "cell_type": "markdown",
   "metadata": {},
   "source": [
    "### Uniform distribution\n",
    "\n",
    "Sample size = 3"
   ]
  },
  {
   "cell_type": "code",
   "execution_count": 12,
   "metadata": {},
   "outputs": [
    {
     "name": "stdout",
     "output_type": "stream",
     "text": [
      "0.0778\n"
     ]
    }
   ],
   "source": [
    "sample_size = 3\n",
    "iterations = 10000\n",
    "significance_level = 0.05\n",
    "fp_counter = 0\n",
    "for i in range(iterations):\n",
    "    sample = np.random.uniform(low=-1, high=1, \n",
    "                               size=sample_size)\n",
    "    t_stat, pvalue = ttest_1samp(sample, 0)\n",
    "    if pvalue < significance_level: # condition for reject null hypotesis\n",
    "        fp_counter += 1\n",
    "\n",
    "print(fp_counter/iterations) # the frequency of rejection of the null hypothesis. \n",
    "                             # i.e., making a mistake of the 1st kind (falsly reject null hypotesis)"
   ]
  },
  {
   "cell_type": "markdown",
   "metadata": {},
   "source": [
    "Sample size = 10"
   ]
  },
  {
   "cell_type": "code",
   "execution_count": 16,
   "metadata": {},
   "outputs": [
    {
     "name": "stdout",
     "output_type": "stream",
     "text": [
      "0.0504\n"
     ]
    }
   ],
   "source": [
    "sample_size = 10\n",
    "iterations = 10000\n",
    "significance_level = 0.05\n",
    "fp_counter = 0\n",
    "for i in range(iterations):\n",
    "    sample = np.random.uniform(low=-1, high=1, \n",
    "                               size=sample_size)\n",
    "    t_stat, pvalue = ttest_1samp(sample, 0)\n",
    "    if pvalue < significance_level: # condition for reject null hypotesis\n",
    "        fp_counter += 1\n",
    "\n",
    "print(fp_counter/iterations) # the frequency of rejection of the null hypothesis. \n",
    "                             # i.e., making a mistake of the 1st kind (falsly reject null hypotesis)"
   ]
  },
  {
   "cell_type": "markdown",
   "metadata": {},
   "source": [
    "Sample size = 50"
   ]
  },
  {
   "cell_type": "code",
   "execution_count": 17,
   "metadata": {},
   "outputs": [
    {
     "name": "stdout",
     "output_type": "stream",
     "text": [
      "0.0492\n"
     ]
    }
   ],
   "source": [
    "sample_size = 50\n",
    "iterations = 10000\n",
    "significance_level = 0.05\n",
    "fp_counter = 0\n",
    "for i in range(iterations):\n",
    "    sample = np.random.uniform(low=-1, high=1, \n",
    "                               size=sample_size)\n",
    "    t_stat, pvalue = ttest_1samp(sample, 0)\n",
    "    if pvalue < significance_level: # condition for reject null hypotesis\n",
    "        fp_counter += 1\n",
    "\n",
    "print(fp_counter/iterations) # the frequency of rejection of the null hypothesis. \n",
    "                             # i.e., making a mistake of the 1st kind (falsly reject null hypotesis)"
   ]
  },
  {
   "cell_type": "markdown",
   "metadata": {},
   "source": [
    "if it will be not a continuous distribution, but discrete"
   ]
  },
  {
   "cell_type": "code",
   "execution_count": 19,
   "metadata": {},
   "outputs": [
    {
     "name": "stdout",
     "output_type": "stream",
     "text": [
      "0.0498\n"
     ]
    }
   ],
   "source": [
    "sample_size = 50\n",
    "iterations = 10000\n",
    "significance_level = 0.05\n",
    "fp_counter = 0\n",
    "population = [2,3,4,1,2.2,4.4,4.4,6.6]\n",
    "for i in range(iterations):\n",
    "    sample = np.random.choice(population, \n",
    "                               size=sample_size)\n",
    "    t_stat, pvalue = ttest_1samp(sample, np.mean(population))\n",
    "    if pvalue < significance_level: # condition for reject null hypotesis\n",
    "        fp_counter += 1\n",
    "\n",
    "print(fp_counter/iterations) # the frequency of rejection of the null hypothesis. \n",
    "                             # i.e., making a mistake of the 1st kind (falsly reject null hypotesis)"
   ]
  },
  {
   "cell_type": "markdown",
   "metadata": {},
   "source": [
    "It is possible to make it worth. If add to population something strange.\n",
    "\n",
    "Sample size = 50"
   ]
  },
  {
   "cell_type": "code",
   "execution_count": 22,
   "metadata": {},
   "outputs": [
    {
     "name": "stdout",
     "output_type": "stream",
     "text": [
      "0.0794\n"
     ]
    }
   ],
   "source": [
    "sample_size = 50\n",
    "iterations = 10000\n",
    "significance_level = 0.05\n",
    "fp_counter = 0\n",
    "population = [2,3,4,1,2.2,4.4,4.4,6.6,10000]\n",
    "for i in range(iterations):\n",
    "    sample = np.random.choice(population, \n",
    "                               size=sample_size)\n",
    "    t_stat, pvalue = ttest_1samp(sample, np.mean(population))\n",
    "    if pvalue < significance_level: # condition for reject null hypotesis\n",
    "        fp_counter += 1\n",
    "\n",
    "print(fp_counter/iterations) # the frequency of rejection of the null hypothesis. \n",
    "                             # i.e., making a mistake of the 1st kind (falsly reject null hypotesis)"
   ]
  },
  {
   "cell_type": "markdown",
   "metadata": {},
   "source": [
    "Sample size = 500"
   ]
  },
  {
   "cell_type": "code",
   "execution_count": 23,
   "metadata": {},
   "outputs": [
    {
     "name": "stdout",
     "output_type": "stream",
     "text": [
      "0.0561\n"
     ]
    }
   ],
   "source": [
    "sample_size = 500\n",
    "iterations = 10000\n",
    "significance_level = 0.05\n",
    "fp_counter = 0\n",
    "population = [2,3,4,1,2.2,4.4,4.4,6.6,10000]\n",
    "for i in range(iterations):\n",
    "    sample = np.random.choice(population, \n",
    "                               size=sample_size)\n",
    "    t_stat, pvalue = ttest_1samp(sample, np.mean(population))\n",
    "    if pvalue < significance_level: # condition for reject null hypotesis\n",
    "        fp_counter += 1\n",
    "\n",
    "print(fp_counter/iterations) # the frequency of rejection of the null hypothesis. \n",
    "                             # i.e., making a mistake of the 1st kind (falsly reject null hypotesis)"
   ]
  },
  {
   "cell_type": "code",
   "execution_count": null,
   "metadata": {},
   "outputs": [],
   "source": []
  }
 ],
 "metadata": {
  "kernelspec": {
   "display_name": "Python 3",
   "language": "python",
   "name": "python3"
  },
  "language_info": {
   "codemirror_mode": {
    "name": "ipython",
    "version": 3
   },
   "file_extension": ".py",
   "mimetype": "text/x-python",
   "name": "python",
   "nbconvert_exporter": "python",
   "pygments_lexer": "ipython3",
   "version": "3.8.10"
  }
 },
 "nbformat": 4,
 "nbformat_minor": 4
}
