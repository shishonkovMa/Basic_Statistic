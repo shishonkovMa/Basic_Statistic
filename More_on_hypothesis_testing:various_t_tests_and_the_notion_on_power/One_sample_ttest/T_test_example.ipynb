{
 "cells": [
  {
   "cell_type": "markdown",
   "metadata": {},
   "source": [
    "# Task 1\n",
    "New kind of corn was obtained by biologists. Test harvest of first 10 ears of corn was weighted and showed the following results: (165, 170, 175, 180, 185, 185, 190, 195, 200, 210). Average weight of ordinary corn ear is considered to be 175 grams. The researcher want to test does new kind of corn differs from the ordinary in its weight (in either side). To do it, t-test is used. Find p-value. Enter 3 digits after the decimal point."
   ]
  },
  {
   "cell_type": "code",
   "execution_count": 4,
   "metadata": {},
   "outputs": [],
   "source": [
    "from scipy.stats import ttest_1samp, t"
   ]
  },
  {
   "cell_type": "code",
   "execution_count": 5,
   "metadata": {},
   "outputs": [
    {
     "data": {
      "text/plain": [
       "Ttest_1sampResult(statistic=2.400108850942297, pvalue=0.039890766746082586)"
      ]
     },
     "execution_count": 5,
     "metadata": {},
     "output_type": "execute_result"
    }
   ],
   "source": [
    "sample = [165, 170, 175, 180, 185, 185, 190, 195, 200, 210]\n",
    "sample_size = 10\n",
    "mu_0 = 175\n",
    "ttest_1samp(sample, mu_0)"
   ]
  },
  {
   "cell_type": "markdown",
   "metadata": {},
   "source": [
    "# Task 2\n",
    "Average teacher salary in the USA is \\\\$39250. (All numbers are artificial.) Researcher randomly choose 25 teachers from California and found that their average salary is $1900 above the country average with standard sample deviation equal to 5000. Can we conclude that teachers in California has higher salary than average in USA? First of all, let us find p-value. Enter numeric value with 3 digits after decimal point."
   ]
  },
  {
   "cell_type": "code",
   "execution_count": 11,
   "metadata": {},
   "outputs": [
    {
     "data": {
      "text/plain": [
       "0.06951310490361085"
      ]
     },
     "execution_count": 11,
     "metadata": {},
     "output_type": "execute_result"
    }
   ],
   "source": [
    "mu_0 = 39250\n",
    "sample_size = 25\n",
    "mu_new = 39250 + 1900\n",
    "std = 5000\n",
    "t_obs = ((mu_new-mu_0) / std)*25**(1/2)\n",
    "T = t(df=sample_size-1)\n",
    "(1 - T.cdf(t_obs))*2"
   ]
  },
  {
   "cell_type": "code",
   "execution_count": null,
   "metadata": {},
   "outputs": [],
   "source": []
  }
 ],
 "metadata": {
  "kernelspec": {
   "display_name": "Python 3",
   "language": "python",
   "name": "python3"
  },
  "language_info": {
   "codemirror_mode": {
    "name": "ipython",
    "version": 3
   },
   "file_extension": ".py",
   "mimetype": "text/x-python",
   "name": "python",
   "nbconvert_exporter": "python",
   "pygments_lexer": "ipython3",
   "version": "3.8.10"
  }
 },
 "nbformat": 4,
 "nbformat_minor": 4
}
