{
 "cells": [
  {
   "cell_type": "markdown",
   "metadata": {},
   "source": [
    "# One-tailed t-test in Python\n",
    "\n",
    "$$H_0: \\mu = \\mu_0$$\n",
    "$$H_1: \\mu > \\mu_0$$"
   ]
  },
  {
   "cell_type": "code",
   "execution_count": 1,
   "metadata": {},
   "outputs": [],
   "source": [
    "from scipy.stats import ttest_1samp, t\n",
    "import numpy as np"
   ]
  },
  {
   "cell_type": "code",
   "execution_count": 2,
   "metadata": {},
   "outputs": [
    {
     "name": "stdout",
     "output_type": "stream",
     "text": [
      "0.0501\n"
     ]
    }
   ],
   "source": [
    "sample_size = 3\n",
    "iterations = 10000\n",
    "significance_level = 0.05\n",
    "fp_counter = 0\n",
    "for i in range(iterations):\n",
    "    sample = np.random.normal(size=sample_size)\n",
    "    t_stat, pvalue = ttest_1samp(sample, 0)\n",
    "    pvalue = pvalue / 2 # one-tailed\n",
    "    if t_stat > 0 and pvalue < significance_level: # condition for reject null hypotesis\n",
    "        fp_counter += 1\n",
    "\n",
    "print(fp_counter/iterations) # the frequency of rejection of the null hypothesis. \n",
    "                             # i.e., making a mistake of the 1st kind (falsly reject null hypotesis)"
   ]
  },
  {
   "cell_type": "markdown",
   "metadata": {},
   "source": [
    "### Example\n",
    "\n",
    "#### Task 1\n",
    "Assume that you perform 1-sample t-test with alternative μ>μ0 and obtain t-statistics equal to 3. Sample size is 5. Find p-value.Use definition of p-value and function scipy.stats.t.cdf to find corresponding probability. Note that parameter df (degrees of freedom) has to be equal to sample size minus 1."
   ]
  },
  {
   "cell_type": "code",
   "execution_count": 3,
   "metadata": {},
   "outputs": [
    {
     "data": {
      "text/plain": [
       "0.019970984035859396"
      ]
     },
     "execution_count": 3,
     "metadata": {},
     "output_type": "execute_result"
    }
   ],
   "source": [
    "t_stat = 3\n",
    "sample_size = 5\n",
    "df = sample_size - 1\n",
    "T = t(df=df)\n",
    "1 - T.cdf(t_stat)"
   ]
  },
  {
   "cell_type": "markdown",
   "metadata": {},
   "source": [
    "#### Task 2\n",
    "Assume that you perform 1-sample t-test with alternative μ>μ0 and obtain t-statistics equal to −3. Sample size is 5. Find p-value. "
   ]
  },
  {
   "cell_type": "code",
   "execution_count": 4,
   "metadata": {},
   "outputs": [
    {
     "data": {
      "text/plain": [
       "0.019970984035859413"
      ]
     },
     "execution_count": 4,
     "metadata": {},
     "output_type": "execute_result"
    }
   ],
   "source": [
    "t_stat = -3\n",
    "sample_size = 5\n",
    "df = sample_size - 1\n",
    "T = t(df=df)\n",
    "T.cdf(t_stat)#?"
   ]
  },
  {
   "cell_type": "markdown",
   "metadata": {},
   "source": [
    "#### Task 3\n",
    "Assume that you perform 1-sample t-test with alternative μ≠μ0 and obtain t-statistics equal to −3. Find p-value."
   ]
  },
  {
   "cell_type": "code",
   "execution_count": 5,
   "metadata": {},
   "outputs": [
    {
     "data": {
      "text/plain": [
       "0.03994196807171883"
      ]
     },
     "execution_count": 5,
     "metadata": {},
     "output_type": "execute_result"
    }
   ],
   "source": [
    "t_stat = -3\n",
    "sample_size = 5\n",
    "df = sample_size - 1\n",
    "T = t(df=df)\n",
    "T.cdf(t_stat) * 2"
   ]
  },
  {
   "cell_type": "code",
   "execution_count": null,
   "metadata": {},
   "outputs": [],
   "source": []
  }
 ],
 "metadata": {
  "kernelspec": {
   "display_name": "Python 3",
   "language": "python",
   "name": "python3"
  },
  "language_info": {
   "codemirror_mode": {
    "name": "ipython",
    "version": 3
   },
   "file_extension": ".py",
   "mimetype": "text/x-python",
   "name": "python",
   "nbconvert_exporter": "python",
   "pygments_lexer": "ipython3",
   "version": "3.8.10"
  }
 },
 "nbformat": 4,
 "nbformat_minor": 4
}
