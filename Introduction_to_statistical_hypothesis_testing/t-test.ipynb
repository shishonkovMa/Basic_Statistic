{
 "cells": [
  {
   "cell_type": "markdown",
   "metadata": {},
   "source": [
    "## Task 1\n",
    "Average weight of mature ear of corn is 175 grams. It's believed that the weight is normally distributed with standard deviation 8. The farmer picks an ear randomly. What is the probability that this corn weights more than 180 grams?"
   ]
  },
  {
   "cell_type": "code",
   "execution_count": 30,
   "metadata": {},
   "outputs": [],
   "source": [
    "import scipy\n",
    "import numpy as np"
   ]
  },
  {
   "cell_type": "code",
   "execution_count": 56,
   "metadata": {},
   "outputs": [],
   "source": [
    "mu_0 = 175\n",
    "std = 8\n",
    "more_than = 180"
   ]
  },
  {
   "cell_type": "code",
   "execution_count": 57,
   "metadata": {},
   "outputs": [],
   "source": [
    "x = scipy.stats.norm(mu_0, std)"
   ]
  },
  {
   "cell_type": "code",
   "execution_count": 60,
   "metadata": {},
   "outputs": [
    {
     "data": {
      "text/plain": [
       "0.26598552904870054"
      ]
     },
     "execution_count": 60,
     "metadata": {},
     "output_type": "execute_result"
    }
   ],
   "source": [
    "1 - x.cdf(more_than)"
   ]
  },
  {
   "attachments": {
    "image.png": {
     "image/png": "[encoded data removed]"
    }
   },
   "cell_type": "markdown",
   "metadata": {},
   "source": [
    "## Task 2\n",
    "Find z-score that corresponds to the previous question. Recall that z-score is a transformation that allows us to obtain standard normal distribution from some other normal distribution. In this case we have to use formula \n",
    "\n",
    "![image.png](attachment:image.png)\n",
    "\n",
    "(​Here we consider distribution of x, ear's weights, and not some sample average, thus we don't have any 'sample size' terms in the formula.)"
   ]
  },
  {
   "cell_type": "code",
   "execution_count": 39,
   "metadata": {},
   "outputs": [
    {
     "data": {
      "text/plain": [
       "0.625"
      ]
     },
     "execution_count": 39,
     "metadata": {},
     "output_type": "execute_result"
    }
   ],
   "source": [
    "z = (more_than-mu_0)/std\n",
    "z"
   ]
  },
  {
   "cell_type": "markdown",
   "metadata": {},
   "source": [
    "## Task 3\n",
    "Find probability that standard normal random variable takes value larger than z-score found in previous question."
   ]
  },
  {
   "attachments": {},
   "cell_type": "markdown",
   "metadata": {},
   "source": [
    "Of course it's the same like in the 1st task"
   ]
  },
  {
   "cell_type": "markdown",
   "metadata": {},
   "source": [
    "## Task 4\n",
    "A​ssume that the farmer selected nine random ears. (Assume that the overall number of ears is very large, so we may think about selection process as sampling with replacement.) Find standard deviation of their mean weight considered as a random variable. This value is also known as standard error of mean."
   ]
  },
  {
   "cell_type": "code",
   "execution_count": 19,
   "metadata": {},
   "outputs": [
    {
     "data": {
      "text/plain": [
       "2.6666666666666665"
      ]
     },
     "execution_count": 19,
     "metadata": {},
     "output_type": "execute_result"
    }
   ],
   "source": [
    "n = 9\n",
    "std_x_bar = std / n**0.5\n",
    "std_x_bar"
   ]
  },
  {
   "cell_type": "markdown",
   "metadata": {},
   "source": [
    "## Task 5\n",
    "The weights of selected ears are 182, 184, 166, 160, 190, 175, 174, 183 and 170 grams. (Farmer's weighting machine has precision 1 gram and gives integer results.) Sample average is 176. The farmer asks what is the probability of getting the average value of the sample, over 176, if he repeats this experiment? "
   ]
  },
  {
   "cell_type": "code",
   "execution_count": 73,
   "metadata": {},
   "outputs": [
    {
     "data": {
      "text/plain": [
       "0.4565360399769376"
      ]
     },
     "execution_count": 73,
     "metadata": {},
     "output_type": "execute_result"
    }
   ],
   "source": [
    "l = [182, 184, 166, 160, 190, 175, 174, 183, 170]\n",
    "average_l = 176\n",
    "# prob = 1 - x.cdf(average_l)\n",
    "# prob\n",
    "x_ = scipy.stats.norm(mu_0, np.var(l)/len(l))\n",
    "prob = 1 - x_.cdf(average_l)\n",
    "prob"
   ]
  },
  {
   "cell_type": "markdown",
   "metadata": {},
   "source": [
    "## Task 6\n",
    "F​ind z-score that corresponds to the previous problem."
   ]
  },
  {
   "cell_type": "code",
   "execution_count": 41,
   "metadata": {},
   "outputs": [
    {
     "data": {
      "text/plain": [
       "0.375"
      ]
     },
     "execution_count": 41,
     "metadata": {},
     "output_type": "execute_result"
    }
   ],
   "source": [
    "z_sc = (np.mean(l) - mu_0) / std * np.sqrt(len(l))\n",
    "z_sc"
   ]
  },
  {
   "cell_type": "markdown",
   "metadata": {},
   "source": [
    "## Task 7\n",
    "L​et us assume that we don't know standard deviation of corn's ear and try to estimate it from the sample. Enter sample standard deviation for the discussed sample. (Recall that sample standard deviation is a square root of unbiased sample variance.)"
   ]
  },
  {
   "cell_type": "code",
   "execution_count": 75,
   "metadata": {},
   "outputs": [
    {
     "data": {
      "text/plain": [
       "3.0266307715280525"
      ]
     },
     "execution_count": 75,
     "metadata": {},
     "output_type": "execute_result"
    }
   ],
   "source": [
    "std_sample = np.std(l) / np.sqrt(len(l))\n",
    "std_sample"
   ]
  },
  {
   "cell_type": "markdown",
   "metadata": {},
   "source": [
    "## Task 8\n",
    "F​ind t-score (also known as t-statistics or t-value) for given sample."
   ]
  },
  {
   "cell_type": "code",
   "execution_count": 44,
   "metadata": {},
   "outputs": [
    {
     "data": {
      "text/plain": [
       "0.9912011825893756"
      ]
     },
     "execution_count": 44,
     "metadata": {},
     "output_type": "execute_result"
    }
   ],
   "source": [
    "t_sc = (average_l - mu_0) / std_sample * np.sqrt(len(l))\n",
    "t_sc"
   ]
  },
  {
   "cell_type": "code",
   "execution_count": null,
   "metadata": {},
   "outputs": [],
   "source": []
  }
 ],
 "metadata": {
  "kernelspec": {
   "display_name": "Python 3",
   "language": "python",
   "name": "python3"
  },
  "language_info": {
   "codemirror_mode": {
    "name": "ipython",
    "version": 3
   },
   "file_extension": ".py",
   "mimetype": "text/x-python",
   "name": "python",
   "nbconvert_exporter": "python",
   "pygments_lexer": "ipython3",
   "version": "3.8.10"
  }
 },
 "nbformat": 4,
 "nbformat_minor": 4
}
