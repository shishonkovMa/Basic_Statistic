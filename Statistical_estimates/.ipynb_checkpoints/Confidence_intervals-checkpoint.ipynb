{
 "cells": [
  {
   "cell_type": "markdown",
   "metadata": {},
   "source": [
    "# Confidence intervals"
   ]
  },
  {
   "cell_type": "code",
   "execution_count": 1,
   "metadata": {},
   "outputs": [],
   "source": [
    "import numpy as np"
   ]
  },
  {
   "cell_type": "code",
   "execution_count": 2,
   "metadata": {},
   "outputs": [],
   "source": [
    "sample_size = 10\n",
    "pop_mean = 3\n",
    "pop_range = 4"
   ]
  },
  {
   "cell_type": "code",
   "execution_count": 3,
   "metadata": {},
   "outputs": [
    {
     "data": {
      "text/plain": [
       "(1.6883925655549923, 5.0056266157741325)"
      ]
     },
     "execution_count": 3,
     "metadata": {},
     "output_type": "execute_result"
    }
   ],
   "source": [
    "sample = np.random.uniform(pop_mean - pop_range, \n",
    "                           pop_mean + pop_range,\n",
    "                           size=sample_size)\n",
    "stderr = np.std(sample, ddof=1) / np.sqrt(sample_size)\n",
    "r = 1.96 * stderr\n",
    "sample_mean = np.mean(sample)\n",
    "confint = (sample_mean - r, sample_mean + r)\n",
    "confint"
   ]
  },
  {
   "cell_type": "code",
   "execution_count": 4,
   "metadata": {},
   "outputs": [
    {
     "data": {
      "text/plain": [
       "0.9132"
      ]
     },
     "execution_count": 4,
     "metadata": {},
     "output_type": "execute_result"
    }
   ],
   "source": [
    "catched = 0\n",
    "iterations = 10000\n",
    "for i in range(iterations):\n",
    "    sample = np.random.uniform(pop_mean - pop_range, \n",
    "                               pop_mean + pop_range,\n",
    "                               size=sample_size)\n",
    "    stderr = np.std(sample, ddof=1) / np.sqrt(sample_size)\n",
    "    r = 1.96 * stderr\n",
    "    sample_mean = np.mean(sample)\n",
    "    confint = (sample_mean - r, sample_mean + r)\n",
    "    if confint[0] < pop_mean < confint[1]:\n",
    "        catched += 1\n",
    "        \n",
    "catched / iterations"
   ]
  },
  {
   "cell_type": "markdown",
   "metadata": {},
   "source": [
    "It needs to be closer to 95%. The rule of \"1.96\" can be right if sample size will be large enough."
   ]
  },
  {
   "cell_type": "code",
   "execution_count": 5,
   "metadata": {},
   "outputs": [
    {
     "data": {
      "text/plain": [
       "0.9448"
      ]
     },
     "execution_count": 5,
     "metadata": {},
     "output_type": "execute_result"
    }
   ],
   "source": [
    "sample_size = 50\n",
    "\n",
    "catched = 0\n",
    "iterations = 10000\n",
    "for i in range(iterations):\n",
    "    sample = np.random.uniform(pop_mean - pop_range, \n",
    "                               pop_mean + pop_range,\n",
    "                               size=sample_size)\n",
    "    stderr = np.std(sample, ddof=1) / np.sqrt(sample_size)\n",
    "    r = 1.96 * stderr\n",
    "    sample_mean = np.mean(sample)\n",
    "    confint = (sample_mean - r, sample_mean + r)\n",
    "    if confint[0] < pop_mean < confint[1]:\n",
    "        catched += 1\n",
    "        \n",
    "catched / iterations"
   ]
  },
  {
   "cell_type": "code",
   "execution_count": null,
   "metadata": {},
   "outputs": [],
   "source": []
  }
 ],
 "metadata": {
  "kernelspec": {
   "display_name": "Python 3",
   "language": "python",
   "name": "python3"
  },
  "language_info": {
   "codemirror_mode": {
    "name": "ipython",
    "version": 3
   },
   "file_extension": ".py",
   "mimetype": "text/x-python",
   "name": "python",
   "nbconvert_exporter": "python",
   "pygments_lexer": "ipython3",
   "version": "3.8.10"
  }
 },
 "nbformat": 4,
 "nbformat_minor": 4
}
