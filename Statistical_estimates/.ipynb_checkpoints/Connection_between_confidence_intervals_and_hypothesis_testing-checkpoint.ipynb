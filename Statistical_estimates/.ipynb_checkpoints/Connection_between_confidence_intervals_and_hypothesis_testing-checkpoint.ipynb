{
 "cells": [
  {
   "cell_type": "markdown",
   "metadata": {},
   "source": [
    "# Assignment\n",
    "\n",
    "**There is a connection between confidence intervals and hypothesis testing. Assume that we have an i.i.d. sample x=(x1,…,xn) from some random variable X with finite variance. Consider one-sample t-test with null hypothesis EX=μ0 and symmetric alternative. For simplicity, let us assume that n is large enough and replace T-distribution with standard normal distribution. Assume that one found confidence interval I for EX with confidence level 95%. Prove that standard decision-making procedure of t-test is equivalent to the following: reject null hypothesis if and only if μ0 does not belong to I. Follow the plan:**"
   ]
  },
  {
   "attachments": {
    "image.png": {
     "image/png": "[encoded data removed]"
    }
   },
   "cell_type": "markdown",
   "metadata": {},
   "source": [
    "**1. Assume that null hypothesis holds. We believe that t-statistics in this case is distributed according to standard normal law (due to assumption that n is large). Recall that t-statistics for sample x is defined as  \n",
    "![image.png](attachment:image.png)**"
   ]
  },
  {
   "cell_type": "markdown",
   "metadata": {},
   "source": [
    "**2. If μ0 does not lie in I, either μ0 is larger than the right endpoint of I or μ0 is smaller than the left endpoint of I. Let us consider the latter case.**"
   ]
  },
  {
   "cell_type": "markdown",
   "metadata": {},
   "source": [
    "**3. Consider event “μ0 is smaller than the left endpoint of I”. Write this condition as an inequality using μ0,  x¯, SD(x), n and a constant 1.96. (Recall that we assume that null hypothesis holds.)**\n",
    "\n",
    "Answer:\n",
    "$$\n",
    "\\overline{x} - μ0 > 1.96 * \\frac{SD(x)}{\\sqrt{n}}\n",
    "$$"
   ]
  },
  {
   "cell_type": "markdown",
   "metadata": {},
   "source": [
    "**4. Transform this inequality such that it becomes (…)>1.96. Does the left-hand part look similar to something?**\n",
    "\n",
    "Answer:  it looks like the t-statistics formula above\n",
    "$$\n",
    "\\frac{\\sqrt{n} * (\\overline{x} - μ0)}{SD(x)} > 1.96\n",
    "$$"
   ]
  },
  {
   "cell_type": "markdown",
   "metadata": {},
   "source": [
    "**5. Recall why we use number 1.96, how it is connected to standard normal distribution.**\n",
    "\n",
    "Answer: In a standard normal distribution (with a mean of 0 and a standard deviation of 1), 95% of the values will be in the range from -1.96 to 1.96"
   ]
  },
  {
   "cell_type": "code",
   "execution_count": 1,
   "metadata": {},
   "outputs": [
    {
     "data": {
      "text/plain": [
       "(-1.959963984540054, 1.959963984540054)"
      ]
     },
     "execution_count": 1,
     "metadata": {},
     "output_type": "execute_result"
    }
   ],
   "source": [
    "import scipy.stats\n",
    "scipy.stats.norm.interval(0.95)"
   ]
  },
  {
   "cell_type": "markdown",
   "metadata": {},
   "source": [
    "**6. Find probability that μ0 is smaller than the left endpoint of I provided that null hypothesis holds.**\n",
    "\n",
    "Answer: this will be equal to 0.025, because with a probability of 0.05 (i.e. 1 - 0.95) μ0 will not lie in the confidence interval. And since we consider only one left side, we divide 0.05 by 2 and get 0.025"
   ]
  },
  {
   "cell_type": "markdown",
   "metadata": {},
   "source": [
    "**7. Find probability that μ0 does not lie in I provided that null hypothesis holds.**\n",
    "\n",
    "Answer: as mentioned above, this is equal to 0.05"
   ]
  },
  {
   "cell_type": "markdown",
   "metadata": {},
   "source": [
    "**8. Assume we are following rule \"reject null hypothesis if and only if μ0 does not belong to I.\" Find probability that we falsely reject null hypothesis provided that it is true.**\n",
    "\n",
    "Answer: this is still equal to 0.05"
   ]
  },
  {
   "cell_type": "markdown",
   "metadata": {},
   "source": [
    "**9. Explain in what cases (in terms of x¯) will we reject null hypothesis if we follow mentioned rule.**\n",
    "\n",
    "Answer: if the absolute value from our formula is greater than the length of the radius of the confidence interval\n",
    "\n",
    "\n",
    "$$\n",
    "|\\overline{x} - μ0| > 1.96 * \\frac{SD(x)}{\\sqrt{n}}\n",
    "$$"
   ]
  },
  {
   "cell_type": "markdown",
   "metadata": {},
   "source": [
    "**10. Explain that this rule is equivalent to the rule used in ordinary two-sided one-sample t-test.**\n",
    "\n",
    "Answer: yes, it is absolutely identical. Recall that alpha (a given threshold level of statistical significance) is usually equal to 0.05 (which is comparable to +/-2 sigma). I.e., speaking in the language of the test: if we get such or even more significant difference (pvalue < alpha, and in the case of confidence intervals, our μ0 lies outside the interval) then we reject the null hypothesis."
   ]
  },
  {
   "cell_type": "code",
   "execution_count": null,
   "metadata": {},
   "outputs": [],
   "source": []
  }
 ],
 "metadata": {
  "kernelspec": {
   "display_name": "Python 3",
   "language": "python",
   "name": "python3"
  },
  "language_info": {
   "codemirror_mode": {
    "name": "ipython",
    "version": 3
   },
   "file_extension": ".py",
   "mimetype": "text/x-python",
   "name": "python",
   "nbconvert_exporter": "python",
   "pygments_lexer": "ipython3",
   "version": "3.8.10"
  }
 },
 "nbformat": 4,
 "nbformat_minor": 4
}
