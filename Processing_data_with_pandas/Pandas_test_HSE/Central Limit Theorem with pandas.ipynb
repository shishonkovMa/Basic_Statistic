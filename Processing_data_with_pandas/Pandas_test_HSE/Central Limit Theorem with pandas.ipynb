{
 "cells": [
  {
   "cell_type": "markdown",
   "id": "25553af8",
   "metadata": {
    "deletable": false,
    "editable": false,
    "nbgrader": {
     "cell_type": "markdown",
     "checksum": "6cf733c3bbd19911b4e7e1b0b5afce6d",
     "grade": false,
     "grade_id": "cell-a0d4fd0213cd5800",
     "locked": true,
     "schema_version": 3,
     "solution": false,
     "task": false
    }
   },
   "source": [
    "# Statistics basics\n",
    "## Central Limit Theorem with pandas"
   ]
  },
  {
   "cell_type": "markdown",
   "id": "8b47d0d1",
   "metadata": {
    "deletable": false,
    "editable": false,
    "nbgrader": {
     "cell_type": "markdown",
     "checksum": "65aa883f1874ec43af3c454ddaf05bb1",
     "grade": false,
     "grade_id": "cell-d8419e0f309114c8",
     "locked": true,
     "schema_version": 3,
     "solution": false,
     "task": false
    }
   },
   "source": [
    "Let us recall Central Limit Theorem. It says the following. Let $(x_1, \\ldots, x_n)$ be an i.i.d. sample from some random variable $X$ with finite variance. Then sample mean $\\bar x$ is distributed approximately with normal law. More exact, let us consider z-score:\n",
    "\n",
    "$$z=\\frac{\\bar x - \\mathbb EX}{\\mathop{\\mathrm{SD}}(X)}\\sqrt{n}$$\n",
    "\n",
    "As one can see, z-score is shifted and rescaled version of $\\bar x$. In the numerator, we shift $\\bar x$ by $\\mathbb EX$ to achieve zero expected value. After that we divide it by standard error of mean $\\mathop{\\mathrm{SD}}(X)/\\sqrt{n}$, which is standard deviation of sample average.\n",
    "\n",
    "Theorem says that the distribution of z-score tends to the standard normal distribution.\n",
    "\n",
    "We already made simulations that illustrate this theorem in the course of Probability. But now we can do it more effectively thanks to pandas."
   ]
  },
  {
   "cell_type": "markdown",
   "id": "ae178904",
   "metadata": {
    "deletable": false,
    "editable": false,
    "nbgrader": {
     "cell_type": "markdown",
     "checksum": "e6d0164374102d7278c878a0bd847473",
     "grade": false,
     "grade_id": "cell-d135539fd5b39c5a",
     "locked": true,
     "schema_version": 3,
     "solution": false,
     "task": false
    }
   },
   "source": [
    "## The old way\n",
    "Let us recall how we did our simulations previously."
   ]
  },
  {
   "cell_type": "code",
   "execution_count": 1,
   "id": "59c7b70d",
   "metadata": {},
   "outputs": [],
   "source": [
    "# pip install matplotlib"
   ]
  },
  {
   "cell_type": "code",
   "execution_count": 2,
   "id": "35087593",
   "metadata": {},
   "outputs": [],
   "source": [
    "# pip install scipy"
   ]
  },
  {
   "cell_type": "code",
   "execution_count": 3,
   "id": "2c5a6ce2",
   "metadata": {},
   "outputs": [],
   "source": [
    "import numpy as np\n",
    "import matplotlib.pyplot as plt\n",
    "import scipy.stats\n",
    "import pandas as pd\n",
    "\n",
    "%matplotlib inline"
   ]
  },
  {
   "cell_type": "code",
   "execution_count": 4,
   "id": "99d00b4f",
   "metadata": {},
   "outputs": [
    {
     "data": {
      "image/png": "[encoded data removed]",
      "text/plain": [
       "<Figure size 432x288 with 1 Axes>"
      ]
     },
     "metadata": {
      "needs_background": "light"
     },
     "output_type": "display_data"
    }
   ],
   "source": [
    "def the_old_way(number_of_samples, sample_size, plot=True):\n",
    "\n",
    "    means = []\n",
    "    zscores = []\n",
    "\n",
    "    EX = 0.5\n",
    "    VarX = 1. / 12\n",
    "    # Expected value and variance of our initial distribution\n",
    "    # Now use are using uniform distribution\n",
    "\n",
    "    for i in range(number_of_samples):\n",
    "        sample = np.random.uniform(low=0, high=1, \n",
    "                                   size=sample_size)\n",
    "        # create new sample\n",
    "\n",
    "        mean = sum(sample) / len(sample)\n",
    "        # find its mean\n",
    "\n",
    "        zscore = (mean - EX) * np.sqrt(sample_size) / np.sqrt(VarX)\n",
    "        # find its z-score\n",
    "\n",
    "        means.append(mean)\n",
    "        zscores.append(zscore)\n",
    "        # save everything\n",
    "\n",
    "    if plot:\n",
    "        xrange = np.linspace(-3.5, 3.5)\n",
    "        plt.hist(zscores, density=True, bins=20)\n",
    "        plt.plot(xrange, scipy.stats.norm.pdf(xrange))\n",
    "        plt.grid()\n",
    "\n",
    "the_old_way(1000, 100)"
   ]
  },
  {
   "cell_type": "markdown",
   "id": "4985954a",
   "metadata": {},
   "source": [
    "This code can be made simpler and faster. First of all, note that `np.random.uniform` (like other random number generators from *numpy*) can produce not only one-dimensional arrays populated by samples from uniform, but also two- and multidimensional arrays (matrixes and more). You just have to put tuple into `size` argument instead of sample size."
   ]
  },
  {
   "cell_type": "code",
   "execution_count": 5,
   "id": "761d673c",
   "metadata": {},
   "outputs": [
    {
     "data": {
      "text/plain": [
       "array([[0.97436336, 0.25563212, 0.72827424],\n",
       "       [0.05840665, 0.29140654, 0.79929253],\n",
       "       [0.92063719, 0.67776006, 0.41116484],\n",
       "       [0.70697842, 0.77637487, 0.41738133],\n",
       "       [0.65054622, 0.9472303 , 0.48755412]])"
      ]
     },
     "execution_count": 5,
     "metadata": {},
     "output_type": "execute_result"
    }
   ],
   "source": [
    "np.random.uniform(low=0, high=1, size=(5, 3))"
   ]
  },
  {
   "cell_type": "markdown",
   "id": "16b35775",
   "metadata": {},
   "source": [
    "We obtained matrix with 5 rows and 3 columns. One can treat this matrix as a collection of 5 samples, each sample has 3 elements. Thus we can avoid loops."
   ]
  },
  {
   "cell_type": "markdown",
   "id": "fa8ac3c9",
   "metadata": {
    "deletable": false,
    "editable": false,
    "nbgrader": {
     "cell_type": "markdown",
     "checksum": "3c4868c227d73f4dc01d589cbf02808a",
     "grade": false,
     "grade_id": "cell-d15903dbff12d9f5",
     "locked": true,
     "schema_version": 3,
     "solution": false,
     "task": false
    }
   },
   "source": [
    "## Task 1\n",
    "Write a function `generate_data(number_of_samples, sample_size)` that returns dataframe with `number_of_samples` rows and `sample_size` columns populated by uniformly distributed random variables.\n",
    "\n",
    "**Note.** No loops allowed!\n",
    "\n",
    "**Hint.** `pd.DataFrame` can be constructed from the array returned by `np.random.uniform`."
   ]
  },
  {
   "cell_type": "code",
   "execution_count": 6,
   "id": "4dbad007",
   "metadata": {
    "deletable": false,
    "nbgrader": {
     "cell_type": "code",
     "checksum": "0154ce93ebd193488ba4f64f25c7551e",
     "grade": false,
     "grade_id": "cell-43f3daded56f79b4",
     "locked": false,
     "schema_version": 3,
     "solution": true,
     "task": false
    }
   },
   "outputs": [],
   "source": [
    "# YOUR CODE HERE\n",
    "def generate_data(number_of_samples, sample_size):\n",
    "    return pd.DataFrame(np.random.uniform(low=0, high=1, size=(number_of_samples, sample_size)))\n",
    "\n",
    "# raise NotImplementedError()"
   ]
  },
  {
   "cell_type": "code",
   "execution_count": 7,
   "id": "a3fda142",
   "metadata": {
    "deletable": false,
    "editable": false,
    "nbgrader": {
     "cell_type": "code",
     "checksum": "0ada8869f46cbb90cf9ae1230dbb4cb2",
     "grade": true,
     "grade_id": "cell-c40bd7a74be967a7",
     "locked": true,
     "points": 1,
     "schema_version": 3,
     "solution": false,
     "task": false
    }
   },
   "outputs": [],
   "source": [
    "assert generate_data(105, 3).shape == (105, 3)\n",
    "assert np.abs(generate_data(100000, 10).mean().mean() - 0.5) < 0.01\n",
    "assert np.abs(generate_data(100000, 10).var(ddof=1).mean() - 1./12) < 0.01"
   ]
  },
  {
   "cell_type": "markdown",
   "id": "c88d2470",
   "metadata": {
    "deletable": false,
    "editable": false,
    "nbgrader": {
     "cell_type": "markdown",
     "checksum": "35b1e9e1c5e2ee2345cd9397882ff52c",
     "grade": false,
     "grade_id": "cell-f7324b4f4b5c6800",
     "locked": true,
     "schema_version": 3,
     "solution": false,
     "task": false
    }
   },
   "source": [
    "## Task 2\n",
    "Write function `mk_zscores(df, EX, VarX)` that takes dataframe generated by `generate_data` and returns series that contains z-score for each sample (row) of data in `df` using values of `EX` (population mean) and `VarX` (population variance) provided.\n",
    "\n",
    "**Note.** No loops allowed!\n",
    "\n",
    "**Hint.** To get number of rows and columns in dataframe, atribute `.shape` may be used."
   ]
  },
  {
   "cell_type": "code",
   "execution_count": 8,
   "id": "4e8487ec",
   "metadata": {
    "deletable": false,
    "nbgrader": {
     "cell_type": "code",
     "checksum": "911b2d132328e64d66a105066baa11b6",
     "grade": false,
     "grade_id": "cell-5514a891ddd86923",
     "locked": false,
     "schema_version": 3,
     "solution": true,
     "task": false
    }
   },
   "outputs": [],
   "source": [
    "# YOUR CODE HERE\n",
    "def mk_zscores(df, EX, VarX):\n",
    "    return (df.mean(axis=1) - EX) * np.sqrt(df.shape[1]) / np.sqrt(VarX)\n",
    "\n",
    "# raise NotImplementedError()"
   ]
  },
  {
   "cell_type": "code",
   "execution_count": 9,
   "id": "bb22255e",
   "metadata": {
    "deletable": false,
    "editable": false,
    "nbgrader": {
     "cell_type": "code",
     "checksum": "30276bb162dab7edf3f4c94005bbab45",
     "grade": true,
     "grade_id": "cell-cccb4c77b752bbe3",
     "locked": true,
     "points": 1,
     "schema_version": 3,
     "solution": false,
     "task": false
    }
   },
   "outputs": [],
   "source": [
    "pd.testing.assert_series_equal(mk_zscores(pd.DataFrame([[1, 2, 3], [4, 5, 10], [1, 100, 3], [10, 2, 15]]), \n",
    "                                          EX=0.5, VarX=1./ 12),\n",
    "                               pd.Series([  9.,  35., 205.,  51.]))"
   ]
  },
  {
   "cell_type": "markdown",
   "id": "d482624e",
   "metadata": {},
   "source": [
    "Finally, let us draw the histogram:"
   ]
  },
  {
   "cell_type": "code",
   "execution_count": 10,
   "id": "32932b7c",
   "metadata": {},
   "outputs": [],
   "source": [
    "def the_new_way(number_of_samples, sample_size, plot=True):\n",
    "    zscores = mk_zscores(generate_data(number_of_samples, sample_size), EX=0.5, VarX=1./12)\n",
    "    if plot:\n",
    "        zscores.hist(density=True, bins=20)\n",
    "        xrange = np.linspace(-3.5, 3.5)\n",
    "        plt.plot(xrange, scipy.stats.norm.pdf(xrange))"
   ]
  },
  {
   "cell_type": "markdown",
   "id": "0ede60c3",
   "metadata": {},
   "source": [
    "If everything is correct, old and new pictures should like very similar:"
   ]
  },
  {
   "cell_type": "code",
   "execution_count": 11,
   "id": "e7aa4385",
   "metadata": {},
   "outputs": [
    {
     "data": {
      "image/png": "[encoded data removed]",
      "text/plain": [
       "<Figure size 432x288 with 1 Axes>"
      ]
     },
     "metadata": {
      "needs_background": "light"
     },
     "output_type": "display_data"
    }
   ],
   "source": [
    "the_new_way(10000, 100)"
   ]
  },
  {
   "cell_type": "code",
   "execution_count": 12,
   "id": "edd5c648",
   "metadata": {},
   "outputs": [
    {
     "data": {
      "image/png": "[encoded data removed]",
      "text/plain": [
       "<Figure size 432x288 with 1 Axes>"
      ]
     },
     "metadata": {
      "needs_background": "light"
     },
     "output_type": "display_data"
    }
   ],
   "source": [
    "the_old_way(10000, 100)"
   ]
  },
  {
   "cell_type": "code",
   "execution_count": 13,
   "id": "03a8835b",
   "metadata": {},
   "outputs": [
    {
     "data": {
      "image/png": "[encoded data removed]",
      "text/plain": [
       "<Figure size 432x288 with 1 Axes>"
      ]
     },
     "metadata": {
      "needs_background": "light"
     },
     "output_type": "display_data"
    }
   ],
   "source": [
    "the_new_way(10000, 1)"
   ]
  },
  {
   "cell_type": "code",
   "execution_count": 14,
   "id": "8adb8a60",
   "metadata": {},
   "outputs": [
    {
     "data": {
      "image/png": "[encoded data removed]",
      "text/plain": [
       "<Figure size 432x288 with 1 Axes>"
      ]
     },
     "metadata": {
      "needs_background": "light"
     },
     "output_type": "display_data"
    }
   ],
   "source": [
    "the_old_way(10000, 1)"
   ]
  },
  {
   "cell_type": "markdown",
   "id": "0d4f46c2",
   "metadata": {},
   "source": [
    "Let us check the speed."
   ]
  },
  {
   "cell_type": "code",
   "execution_count": 15,
   "id": "c6b98163",
   "metadata": {},
   "outputs": [
    {
     "name": "stdout",
     "output_type": "stream",
     "text": [
      "70.7 ms ± 656 µs per loop (mean ± std. dev. of 7 runs, 10 loops each)\n"
     ]
    }
   ],
   "source": [
    "%%timeit \n",
    "the_old_way(10000, 1, plot=False)"
   ]
  },
  {
   "cell_type": "code",
   "execution_count": 16,
   "id": "77702cfb",
   "metadata": {},
   "outputs": [
    {
     "name": "stdout",
     "output_type": "stream",
     "text": [
      "623 µs ± 2.62 µs per loop (mean ± std. dev. of 7 runs, 1,000 loops each)\n"
     ]
    }
   ],
   "source": [
    "%%timeit \n",
    "the_new_way(10000, 1, plot=False)"
   ]
  },
  {
   "cell_type": "markdown",
   "id": "a3946b91",
   "metadata": {},
   "source": [
    "Pandas is wa-a-ay faster!\n",
    "\n",
    "That's why we love it!"
   ]
  },
  {
   "cell_type": "code",
   "execution_count": null,
   "id": "4ffb5b0a",
   "metadata": {},
   "outputs": [],
   "source": []
  }
 ],
 "metadata": {
  "kernelspec": {
   "display_name": "Python 3 (ipykernel)",
   "language": "python",
   "name": "python3"
  },
  "language_info": {
   "codemirror_mode": {
    "name": "ipython",
    "version": 3
   },
   "file_extension": ".py",
   "mimetype": "text/x-python",
   "name": "python",
   "nbconvert_exporter": "python",
   "pygments_lexer": "ipython3",
   "version": "3.8.10"
  }
 },
 "nbformat": 4,
 "nbformat_minor": 5
}
