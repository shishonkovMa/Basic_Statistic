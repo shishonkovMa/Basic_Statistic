{
 "cells": [
  {
   "cell_type": "markdown",
   "id": "9f5ecd87",
   "metadata": {
    "deletable": false,
    "editable": false,
    "nbgrader": {
     "cell_type": "markdown",
     "checksum": "69fe22c3318bfa57b308c02765bbfa21",
     "grade": false,
     "grade_id": "cell-96313a29548a00ff",
     "locked": true,
     "schema_version": 3,
     "solution": false,
     "task": false
    }
   },
   "source": [
    "# Statistics basics\n",
    "This is autograded assignment. After each problem there is a test cell (with `assert`'s). If it runs correctly, test is passed, if it gives error, something should be fixed. Implement the functions, click \"Validate\" button, then submit for grading. All problems weight 1 point except where stated otherwise.\n",
    "\n",
    "## Working with series"
   ]
  },
  {
   "cell_type": "code",
   "execution_count": 1,
   "id": "107c08ba",
   "metadata": {
    "deletable": false,
    "editable": false,
    "nbgrader": {
     "cell_type": "code",
     "checksum": "55cbb699a5df94541ee1db2ed7b342ad",
     "grade": false,
     "grade_id": "cell-a4e3545836a85894",
     "locked": true,
     "schema_version": 3,
     "solution": false,
     "task": false
    }
   },
   "outputs": [
    {
     "name": "stdout",
     "output_type": "stream",
     "text": [
      "Requirement already satisfied: pandas in /home/jupyter-mashishonkov@edu.h-c77de/.local/lib/python3.8/site-packages (1.4.2)\n",
      "Requirement already satisfied: pytz>=2020.1 in /home/jupyter-mashishonkov@edu.h-c77de/.local/lib/python3.8/site-packages (from pandas) (2022.1)\n",
      "Requirement already satisfied: python-dateutil>=2.8.1 in /usr/local/lib/python3.8/dist-packages (from pandas) (2.8.2)\n",
      "Requirement already satisfied: numpy>=1.18.5; platform_machine != \"aarch64\" and platform_machine != \"arm64\" and python_version < \"3.10\" in /home/jupyter-mashishonkov@edu.h-c77de/.local/lib/python3.8/site-packages (from pandas) (1.22.4)\n",
      "Requirement already satisfied: six>=1.5 in /usr/local/lib/python3.8/dist-packages (from python-dateutil>=2.8.1->pandas) (1.16.0)\n"
     ]
    }
   ],
   "source": [
    "!pip install pandas\n",
    "import pandas as pd"
   ]
  },
  {
   "cell_type": "markdown",
   "id": "e6b28c52",
   "metadata": {
    "deletable": false,
    "editable": false,
    "nbgrader": {
     "cell_type": "markdown",
     "checksum": "45c50cb43101647d0869c9679b13be04",
     "grade": false,
     "grade_id": "cell-6f866b42cdaa4006",
     "locked": true,
     "schema_version": 3,
     "solution": false,
     "task": false
    }
   },
   "source": [
    "### Problem 1\n",
    "Write function `squares(n)` that returns `pd.Series` object that contains squares of consequent integer numbers from 0 to `n` (`n` is excluded). Indexe should contain numbers 0, 1, 2, ..., `n-1`. For example, `squares(4)` should return `Series` that looks like\n",
    "\n",
    "```\n",
    "0    0\n",
    "1    1\n",
    "2    4\n",
    "3    9\n",
    "dtype: int64\n",
    "```"
   ]
  },
  {
   "cell_type": "code",
   "execution_count": 2,
   "id": "a35ee83b",
   "metadata": {
    "deletable": false,
    "nbgrader": {
     "cell_type": "code",
     "checksum": "27dcba5fafc0557c1e62a6922a21a5ad",
     "grade": false,
     "grade_id": "cell-216a5f3cb538ae16",
     "locked": false,
     "schema_version": 3,
     "solution": true,
     "task": false
    }
   },
   "outputs": [],
   "source": [
    "# YOUR CODE HERE\n",
    "def squares(n):\n",
    "    return pd.Series([i**2 for i in range(n)])\n",
    "\n",
    "# raise NotImplementedError()"
   ]
  },
  {
   "cell_type": "code",
   "execution_count": 3,
   "id": "7d9ad75d",
   "metadata": {
    "deletable": false,
    "editable": false,
    "nbgrader": {
     "cell_type": "code",
     "checksum": "18bf509166acafb05782ed2a4064727e",
     "grade": true,
     "grade_id": "cell-30d3351e43a8759e",
     "locked": true,
     "points": 1,
     "schema_version": 3,
     "solution": false,
     "task": false
    }
   },
   "outputs": [],
   "source": [
    "assert squares(3).equals(pd.Series([0, 1, 4]))\n",
    "assert squares(1).equals(pd.Series([0]))"
   ]
  },
  {
   "cell_type": "markdown",
   "id": "43e666ff",
   "metadata": {
    "deletable": false,
    "editable": false,
    "nbgrader": {
     "cell_type": "markdown",
     "checksum": "81fe379f31206ae320dd7293caa18d58",
     "grade": false,
     "grade_id": "cell-d53f6302e27e1d51",
     "locked": true,
     "schema_version": 3,
     "solution": false,
     "task": false
    }
   },
   "source": [
    "## Problem 2\n",
    "Write function `squares_of_numbers(numbers)` that returns `pd.Series` object that contains squares of numbers from list `numbers`. Index should coincide with `numbers`. For example, `squares_of_numbers([1, 5, 2])` should return `Series` that looks like\n",
    "\n",
    "```\n",
    "1     1\n",
    "5    25\n",
    "2     4\n",
    "dtype: int64\n",
    "```"
   ]
  },
  {
   "cell_type": "code",
   "execution_count": 4,
   "id": "6cce1639",
   "metadata": {
    "deletable": false,
    "nbgrader": {
     "cell_type": "code",
     "checksum": "60ba299532bbbe5c1acbc6fbba084ae3",
     "grade": false,
     "grade_id": "cell-4e7ed3f820d9784c",
     "locked": false,
     "schema_version": 3,
     "solution": true,
     "task": false
    }
   },
   "outputs": [],
   "source": [
    "# YOUR CODE HERE\n",
    "def squares_of_numbers(numbers):\n",
    "    return pd.Series([i**2 for i in numbers], index=[i for i in numbers])\n",
    "# raise NotImplementedError()"
   ]
  },
  {
   "cell_type": "code",
   "execution_count": 5,
   "id": "94003fa3",
   "metadata": {
    "deletable": false,
    "editable": false,
    "nbgrader": {
     "cell_type": "code",
     "checksum": "7446158369fc3796afb26f5b1fea716a",
     "grade": true,
     "grade_id": "cell-e28a0196d776edca",
     "locked": true,
     "points": 1,
     "schema_version": 3,
     "solution": false,
     "task": false
    }
   },
   "outputs": [],
   "source": [
    "assert squares_of_numbers([1, 5, 2]).equals(pd.Series([1, 25, 4], index=[1, 5, 2]))\n",
    "assert squares_of_numbers([1, 4, 2])[4] == 16\n",
    "assert squares_of_numbers(range(100, 0,-1)).equals(pd.Series((pd.Series(range(100, 0, -1)) ** 2).values, index=range(100, 0, -1)))"
   ]
  },
  {
   "cell_type": "markdown",
   "id": "5127ba58",
   "metadata": {
    "deletable": false,
    "editable": false,
    "nbgrader": {
     "cell_type": "markdown",
     "checksum": "551239217dd7eacb60458bdb12ca9bb8",
     "grade": false,
     "grade_id": "cell-be4061bf05a2fa6e",
     "locked": true,
     "schema_version": 3,
     "solution": false,
     "task": false
    }
   },
   "source": [
    "## Problem 3\n",
    "Write function `get_grade_from_series(series, firstname, lastname)` that takes three arguments: `series` is `pd.Series` whose indexes are full names of students and values are their grades, `firstname` and `lastname` are first and last names of a student we are interested in. Names are concatenated with one space. For example,\n",
    "\n",
    "```\n",
    "get_grade_from_series(pd.Series(['A', 'F', 'B'], \n",
    "                                 index=['Alice Smith', 'John Doe', 'Eliza Richardson']),\n",
    "                       'John', 'Doe')\n",
    "```\n",
    "sould return `'F'`.\n",
    "\n",
    "**Note.** You are not allowed to use loops or `if`'s in this problem."
   ]
  },
  {
   "cell_type": "code",
   "execution_count": 6,
   "id": "6780113c",
   "metadata": {
    "deletable": false,
    "nbgrader": {
     "cell_type": "code",
     "checksum": "77bbe50012caec48e296a8009310450b",
     "grade": false,
     "grade_id": "cell-f4811c20cf89b3a1",
     "locked": false,
     "schema_version": 3,
     "solution": true,
     "task": false
    }
   },
   "outputs": [],
   "source": [
    "# YOUR CODE HERE\n",
    "def get_grade_from_series(series, firstname, lastname):\n",
    "    return series[firstname+' '+lastname]\n",
    "\n",
    "# raise NotImplementedError()"
   ]
  },
  {
   "cell_type": "code",
   "execution_count": 7,
   "id": "0a346d21",
   "metadata": {
    "deletable": false,
    "editable": false,
    "nbgrader": {
     "cell_type": "code",
     "checksum": "986994f018d45c9f0de474a25c983f9e",
     "grade": true,
     "grade_id": "cell-a4b8a5153b1b2d0e",
     "locked": true,
     "points": 1,
     "schema_version": 3,
     "solution": false,
     "task": false
    }
   },
   "outputs": [],
   "source": [
    "assert get_grade_from_series(pd.Series(['A', 'F', 'B'], \n",
    "                                 index=['Alice Smith', 'John Doe', 'Eliza Richardson']),\n",
    "                       'John', 'Doe') == 'F'\n",
    "assert get_grade_from_series(pd.Series([100, 200], index=['A B', 'C D']), 'A', 'B') == 100"
   ]
  },
  {
   "cell_type": "markdown",
   "id": "25e7a3e6",
   "metadata": {
    "deletable": false,
    "editable": false,
    "nbgrader": {
     "cell_type": "markdown",
     "checksum": "052c1696fdac82d9b3d1ac84373633f0",
     "grade": false,
     "grade_id": "cell-6ca0cde54c52597d",
     "locked": true,
     "schema_version": 3,
     "solution": false,
     "task": false
    }
   },
   "source": [
    "## Problem 4\n",
    "Write function `first_element(series)` that return the value of the first element of a series. It should work with any kind of indexes.\n",
    "\n",
    "**Note.** You are not allowed to use loops or `if`'s in this problem."
   ]
  },
  {
   "cell_type": "code",
   "execution_count": 8,
   "id": "3cdd73eb",
   "metadata": {
    "deletable": false,
    "nbgrader": {
     "cell_type": "code",
     "checksum": "9ceb0c905d9b03dd0e28dac28683c5d3",
     "grade": false,
     "grade_id": "cell-964f49c4e97ff705",
     "locked": false,
     "schema_version": 3,
     "solution": true,
     "task": false
    }
   },
   "outputs": [],
   "source": [
    "# YOUR CODE HERE\n",
    "def first_element(series):\n",
    "    return series.iloc[0]\n",
    "\n",
    "# raise NotImplementedError()"
   ]
  },
  {
   "cell_type": "code",
   "execution_count": 9,
   "id": "d85cf1db",
   "metadata": {
    "deletable": false,
    "editable": false,
    "nbgrader": {
     "cell_type": "code",
     "checksum": "92a960b8e26e152c01e0f894b6c180be",
     "grade": true,
     "grade_id": "cell-50da987c7cd25ef5",
     "locked": true,
     "points": 1,
     "schema_version": 3,
     "solution": false,
     "task": false
    }
   },
   "outputs": [],
   "source": [
    "assert first_element(pd.Series([2, 5, 100])) == 2\n",
    "assert first_element(pd.Series([2, 5, 100], index=['a', 'b', 'c'])) == 2\n",
    "assert first_element(pd.Series([100, 3, 5], index=[2, 0, 1])) == 100\n",
    "assert first_element(pd.Series(range(100), index=range(100, 0, -1))) == 0"
   ]
  },
  {
   "cell_type": "markdown",
   "id": "872d2cbb",
   "metadata": {
    "deletable": false,
    "editable": false,
    "nbgrader": {
     "cell_type": "markdown",
     "checksum": "d893397d652c17a7771fbf48ff96246d",
     "grade": false,
     "grade_id": "cell-54a8d0f3629dccb6",
     "locked": true,
     "schema_version": 3,
     "solution": false,
     "task": false
    }
   },
   "source": [
    "## Problem 5\n",
    "Write function `middle_third(series)` that returns middle third of a series `series`. For example, if `series` is\n",
    "\n",
    "```\n",
    "9     1\n",
    "1     5\n",
    "4     3\n",
    "3    10\n",
    "7    12\n",
    "5    15\n",
    "dtype: int64\n",
    "```\n",
    "\n",
    "shoud be returned the following series:\n",
    "\n",
    "```\n",
    "4     3\n",
    "3    10\n",
    "dtype: int64\n",
    "```\n",
    "\n",
    "You may assume that the number of elements in `series` is multiple of 3.\n",
    "\n",
    "**Hint.** Use function `len` to get number of elements in `series`.\n",
    "\n",
    "**Note.** You are not allowed to use loops or `if`'s in this problem."
   ]
  },
  {
   "cell_type": "code",
   "execution_count": 10,
   "id": "20adad79",
   "metadata": {
    "deletable": false,
    "nbgrader": {
     "cell_type": "code",
     "checksum": "14acf0a24f96a0f8a4eefb78bcb5dbde",
     "grade": false,
     "grade_id": "cell-a7008b67337b7e4d",
     "locked": false,
     "schema_version": 3,
     "solution": true,
     "task": false
    }
   },
   "outputs": [],
   "source": [
    "# YOUR CODE HERE\n",
    "def middle_third(series):\n",
    "    return series.iloc[int(len(series)/3):int(len(series)/3*2)]\n",
    "\n",
    "# raise NotImplementedError()"
   ]
  },
  {
   "cell_type": "code",
   "execution_count": 11,
   "id": "e9564a25",
   "metadata": {
    "deletable": false,
    "editable": false,
    "nbgrader": {
     "cell_type": "code",
     "checksum": "d99e3c126e13d4939062be70721f5b44",
     "grade": true,
     "grade_id": "cell-f2f8df429f84743b",
     "locked": true,
     "points": 1,
     "schema_version": 3,
     "solution": false,
     "task": false
    }
   },
   "outputs": [],
   "source": [
    "assert middle_third(pd.Series([1, 5, 3, 10, 12, 15], index=[9, 1, 4, 3, 7, 5])).equals(pd.Series([3, 10], index=[4, 3]))\n",
    "assert middle_third(pd.Series(['a', 'b', 'c', 'd', 'e', 'f', 'g', 'h', 'j'], index=[1, 3, 5, 7, 10, 2, 4, 9, 6])).equals(pd.Series(['d', 'e', 'f'], index=[7, 10, 2]))"
   ]
  },
  {
   "cell_type": "markdown",
   "id": "238e39db",
   "metadata": {
    "deletable": false,
    "editable": false,
    "nbgrader": {
     "cell_type": "markdown",
     "checksum": "70f7997e0f73c33c7f3afb038957ef7f",
     "grade": false,
     "grade_id": "cell-60b8e4a960113d3a",
     "locked": true,
     "schema_version": 3,
     "solution": false,
     "task": false
    }
   },
   "source": [
    "## Problem 6\n",
    "Write function `increase(series)` that returns a series obtained from `series` by increasing each its element by 1.\n",
    "\n",
    "**Note.** You are not allowed to use loops or `if`'s in this problem."
   ]
  },
  {
   "cell_type": "code",
   "execution_count": 12,
   "id": "28e35e9c",
   "metadata": {
    "deletable": false,
    "nbgrader": {
     "cell_type": "code",
     "checksum": "a70ab59f561c5cec88f4556cb430d5dd",
     "grade": false,
     "grade_id": "cell-8d65ee9591d3b958",
     "locked": false,
     "schema_version": 3,
     "solution": true,
     "task": false
    }
   },
   "outputs": [],
   "source": [
    "# YOUR CODE HERE\n",
    "def increase(series):\n",
    "    return series+1\n",
    "# raise NotImplementedError()"
   ]
  },
  {
   "cell_type": "code",
   "execution_count": 13,
   "id": "53b3c7a6",
   "metadata": {
    "deletable": false,
    "editable": false,
    "nbgrader": {
     "cell_type": "code",
     "checksum": "6351f012175ea8a8d1cade27abd1517d",
     "grade": true,
     "grade_id": "cell-6d8f4eba4ac1a617",
     "locked": true,
     "points": 1,
     "schema_version": 3,
     "solution": false,
     "task": false
    }
   },
   "outputs": [],
   "source": [
    "assert increase(pd.Series([1, 2, 3])).equals(pd.Series([2, 3, 4]))\n",
    "assert increase(pd.Series([1, 2, 3], index=[3, 2, 1])).equals(pd.Series([2, 3, 4], index=[3, 2, 1]))\n",
    "assert increase(pd.Series(range(100))).equals(pd.Series(range(1, 101)))"
   ]
  },
  {
   "cell_type": "markdown",
   "id": "3cc8318c",
   "metadata": {
    "deletable": false,
    "editable": false,
    "nbgrader": {
     "cell_type": "markdown",
     "checksum": "31bad4f6c0067e56d5e9a109cac65c6c",
     "grade": false,
     "grade_id": "cell-e1cf1013f7cde6ce",
     "locked": true,
     "schema_version": 3,
     "solution": false,
     "task": false
    }
   },
   "source": [
    "## Problem 7\n",
    "Write function `century_20(years)` that takes series `years` with integer values representing years and returns only those years who belongs to 20'th century (from 1901 till 2000).\n",
    "\n",
    "**Note.** You are not allowed to use loops or `if`'s in this problem."
   ]
  },
  {
   "cell_type": "code",
   "execution_count": 14,
   "id": "34c923a1",
   "metadata": {
    "deletable": false,
    "nbgrader": {
     "cell_type": "code",
     "checksum": "fb25ed2b8dfb42ad4bffa8cee59abfc0",
     "grade": false,
     "grade_id": "cell-04faf9ba8e80a044",
     "locked": false,
     "schema_version": 3,
     "solution": true,
     "task": false
    }
   },
   "outputs": [],
   "source": [
    "# YOUR CODE HERE\n",
    "def century_20(years):\n",
    "    df = pd.DataFrame(years, columns=['year'])\n",
    "    return df.query('1900<year<2001')['year']\n",
    "\n",
    "# raise NotImplementedError()"
   ]
  },
  {
   "cell_type": "code",
   "execution_count": 15,
   "id": "b0c7a2f9",
   "metadata": {
    "deletable": false,
    "editable": false,
    "nbgrader": {
     "cell_type": "code",
     "checksum": "d7fc778b0fa354ca9b4f90d01307ef6d",
     "grade": true,
     "grade_id": "cell-ffd50f94524e8621",
     "locked": true,
     "points": 1,
     "schema_version": 3,
     "solution": false,
     "task": false
    }
   },
   "outputs": [],
   "source": [
    "assert century_20(pd.Series(range(3000))).equals(pd.Series(range(1901, 2001), index=range(1901, 2001)))\n",
    "assert century_20(pd.Series([1983, 1999, 2001, 1876], index=['a', 'b', 'd', 'c'])).equals(pd.Series([1983, 1999], index=['a', 'b']))"
   ]
  },
  {
   "cell_type": "markdown",
   "id": "aa56d0ad",
   "metadata": {
    "deletable": false,
    "editable": false,
    "nbgrader": {
     "cell_type": "markdown",
     "checksum": "1eea02dd77df29866aed1d1aa0b47453",
     "grade": false,
     "grade_id": "cell-c5272923c1e1fe9f",
     "locked": true,
     "schema_version": 3,
     "solution": false,
     "task": false
    }
   },
   "source": [
    "### Problem 8\n",
    "Write function `get_pancakes(food)` that takes a series of strings and returns a new series obtained from `food` by keeping only elements that contain substring `'pancake'`.\n",
    "\n",
    "**Note.** You are not allowed to use loops or `if`'s in this problem.\n",
    "\n",
    "**Hint.** If `series` contains strings, you an access its elements and apply string operations to them by using accessor `.str`. For example:"
   ]
  },
  {
   "cell_type": "code",
   "execution_count": 16,
   "id": "7f9eecc8",
   "metadata": {},
   "outputs": [
    {
     "data": {
      "text/plain": [
       "0      alpha\n",
       "1      bravo\n",
       "2    charlie\n",
       "dtype: object"
      ]
     },
     "execution_count": 16,
     "metadata": {},
     "output_type": "execute_result"
    }
   ],
   "source": [
    "series = pd.Series(['alpha', 'bravo', 'charlie'])\n",
    "series"
   ]
  },
  {
   "cell_type": "code",
   "execution_count": 17,
   "id": "156d510f",
   "metadata": {},
   "outputs": [
    {
     "data": {
      "text/plain": [
       "0      ALPHA\n",
       "1      BRAVO\n",
       "2    CHARLIE\n",
       "dtype: object"
      ]
     },
     "execution_count": 17,
     "metadata": {},
     "output_type": "execute_result"
    }
   ],
   "source": [
    "series.str.upper()"
   ]
  },
  {
   "cell_type": "code",
   "execution_count": 18,
   "id": "955eb860",
   "metadata": {},
   "outputs": [
    {
     "data": {
      "text/plain": [
       "0    l\n",
       "1    r\n",
       "2    h\n",
       "dtype: object"
      ]
     },
     "execution_count": 18,
     "metadata": {},
     "output_type": "execute_result"
    }
   ],
   "source": [
    "series.str[1]"
   ]
  },
  {
   "cell_type": "code",
   "execution_count": 19,
   "id": "698b1216",
   "metadata": {},
   "outputs": [
    {
     "data": {
      "text/plain": [
       "0     True\n",
       "1    False\n",
       "2     True\n",
       "dtype: bool"
      ]
     },
     "execution_count": 19,
     "metadata": {},
     "output_type": "execute_result"
    }
   ],
   "source": [
    "series.str.contains('ha')"
   ]
  },
  {
   "cell_type": "code",
   "execution_count": 20,
   "id": "fae3aa39",
   "metadata": {
    "deletable": false,
    "nbgrader": {
     "cell_type": "code",
     "checksum": "a6afe1e57a78b2cbb9864309927357d5",
     "grade": false,
     "grade_id": "cell-d886fa29503af60f",
     "locked": false,
     "schema_version": 3,
     "solution": true,
     "task": false
    }
   },
   "outputs": [],
   "source": [
    "# YOUR CODE HERE\n",
    "def get_pancakes(food):\n",
    "    return food[food.str.contains('pancake')]\n",
    "\n",
    "# raise NotImplementedError()"
   ]
  },
  {
   "cell_type": "code",
   "execution_count": 21,
   "id": "d0c36c4b",
   "metadata": {
    "deletable": false,
    "editable": false,
    "nbgrader": {
     "cell_type": "code",
     "checksum": "0f8e178d01ef27c8c06e4489a1645859",
     "grade": true,
     "grade_id": "cell-22e8dc9a3fe5c82a",
     "locked": true,
     "points": 1,
     "schema_version": 3,
     "solution": false,
     "task": false
    }
   },
   "outputs": [],
   "source": [
    "assert get_pancakes(pd.Series(['russian kvas', 'sweet pancake', 'okroshka'])).equals(pd.Series(['sweet pancake'], index=[1]))\n",
    "assert get_pancakes(pd.Series(['pancake', 'pancakes','cheescake',  'pancake'])).equals(pd.Series(['pancake', 'pancakes', 'pancake'], index=[0, 1, 3]))"
   ]
  },
  {
   "cell_type": "markdown",
   "id": "6b13f3ae",
   "metadata": {
    "deletable": false,
    "editable": false,
    "nbgrader": {
     "cell_type": "markdown",
     "checksum": "162b1db500ecf2c75310bc6744162807",
     "grade": false,
     "grade_id": "cell-43f10708b78839da",
     "locked": true,
     "schema_version": 3,
     "solution": false,
     "task": false
    }
   },
   "source": [
    "## Problem 9 (2 points)\n",
    "Write function `even_to_negative(series)` that takes series of numbers and makes all even elements of this series negative (keeping their absolute value). For example `even_to_negative(pd.Series([1, 2, -3, -4, -5, 6, 7, 8])` should return `pd.Series([1, -2, -3, -4, -5, -6, 7, -8])`.\n",
    "\n",
    "**Note.** You are not allowed to use loops or `if`'s in this problem.\n",
    "\n",
    "**Hint.** It is possible to avoid `if`'s using method `.where`. It allows you to replace values in one series by values in another series if some condition is satisfied. For example:"
   ]
  },
  {
   "cell_type": "code",
   "execution_count": 22,
   "id": "bface960",
   "metadata": {},
   "outputs": [
    {
     "data": {
      "text/plain": [
       "0      1\n",
       "1    100\n",
       "2      3\n",
       "3      4\n",
       "4    100\n",
       "dtype: int64"
      ]
     },
     "execution_count": 22,
     "metadata": {},
     "output_type": "execute_result"
    }
   ],
   "source": [
    "series = pd.Series([1, 2, 3, 4, 5])\n",
    "mask = pd.Series([True, False, True, True, False])\n",
    "series.where(mask, 100)"
   ]
  },
  {
   "cell_type": "markdown",
   "id": "4ed998e5",
   "metadata": {
    "deletable": false,
    "editable": false,
    "nbgrader": {
     "cell_type": "markdown",
     "checksum": "0ec4e428d9f9c9d7f0e361ed01595c32",
     "grade": false,
     "grade_id": "cell-5f4f9ac0890d0053",
     "locked": true,
     "schema_version": 3,
     "solution": false,
     "task": false
    }
   },
   "source": [
    "You see that `series.where` replaced elements in the initial `series` by number `where` in positions that corresponds to `False` in its first argument. Usual way to use it is construct mask by condition. For example:"
   ]
  },
  {
   "cell_type": "code",
   "execution_count": 23,
   "id": "0693cf74",
   "metadata": {},
   "outputs": [
    {
     "data": {
      "text/plain": [
       "0      1\n",
       "1      2\n",
       "2    100\n",
       "3    100\n",
       "4    100\n",
       "dtype: int64"
      ]
     },
     "execution_count": 23,
     "metadata": {},
     "output_type": "execute_result"
    }
   ],
   "source": [
    "series = pd.Series([1, 2, 3, 4, 5])\n",
    "series.where(series < 3, 100)"
   ]
  },
  {
   "cell_type": "markdown",
   "id": "a3eb35cc",
   "metadata": {
    "deletable": false,
    "editable": false,
    "nbgrader": {
     "cell_type": "markdown",
     "checksum": "34de6f2375d254766ce123d8fb9385b6",
     "grade": false,
     "grade_id": "cell-a3b44d22fe78b3bd",
     "locked": true,
     "schema_version": 3,
     "solution": false,
     "task": false
    }
   },
   "source": [
    "Here we replace all elements that are smaller than 3 by 100. \n",
    "\n",
    "The second argument of `where` may be also `Series`. In this case elements for replacements would be taken from this series."
   ]
  },
  {
   "cell_type": "code",
   "execution_count": 24,
   "id": "ac169fe2",
   "metadata": {},
   "outputs": [
    {
     "data": {
      "text/plain": [
       "0         1\n",
       "1         2\n",
       "2      3000\n",
       "3     40000\n",
       "4    500000\n",
       "dtype: int64"
      ]
     },
     "execution_count": 24,
     "metadata": {},
     "output_type": "execute_result"
    }
   ],
   "source": [
    "series = pd.Series([1, 2, 3, 4, 5])\n",
    "newseries = pd.Series([10, 200, 3000, 40000, 500000])\n",
    "series.where(series < 3, newseries)"
   ]
  },
  {
   "cell_type": "code",
   "execution_count": 25,
   "id": "ec7386f2",
   "metadata": {
    "deletable": false,
    "nbgrader": {
     "cell_type": "code",
     "checksum": "aa41236d97bb67110c7ff69647f36ddf",
     "grade": false,
     "grade_id": "cell-a9169e8a3a9d0101",
     "locked": false,
     "schema_version": 3,
     "solution": true,
     "task": false
    }
   },
   "outputs": [],
   "source": [
    "# YOUR CODE HERE\n",
    "def even_to_negative(series):\n",
    "    newseries = series.where(series<0, -1*series)\n",
    "    return series.where(series % 2 != 0, newseries)\n",
    "\n",
    "# raise NotImplementedError()"
   ]
  },
  {
   "cell_type": "code",
   "execution_count": 26,
   "id": "f39efebc",
   "metadata": {
    "deletable": false,
    "editable": false,
    "nbgrader": {
     "cell_type": "code",
     "checksum": "0b47c48a9aa91bdc8a3b4529fc511b48",
     "grade": true,
     "grade_id": "cell-873d255ead2a1c1e",
     "locked": true,
     "points": 2,
     "schema_version": 3,
     "solution": false,
     "task": false
    }
   },
   "outputs": [],
   "source": [
    "assert even_to_negative(pd.Series([1, 2, -3, -4, -5, 6, 7, 8])).equals(pd.Series([1, -2, -3, -4, -5, -6, 7, -8]))\n",
    "assert even_to_negative(pd.Series([1, 2, 3], index=[3, 2, 1])).equals(pd.Series([1, -2, 3], index=[3, 2, 1]))"
   ]
  },
  {
   "cell_type": "markdown",
   "id": "dfa7ca34",
   "metadata": {
    "deletable": false,
    "editable": false,
    "nbgrader": {
     "cell_type": "markdown",
     "checksum": "96b238d5d494b6f76f684675c2e543af",
     "grade": false,
     "grade_id": "cell-8973c1fd7b04c290",
     "locked": true,
     "schema_version": 3,
     "solution": false,
     "task": false
    }
   },
   "source": [
    "### Problem 10 (3 points)\n",
    "In some state, income tax is calculated in the following way. Base fare is 13%. If in some month your income is larger than 1000, for the rest of the year (beginning from the next month), fare is set to 20%. For example, if your income is 150 every month, then in July you will have 150 × 7 = 1050 and beginning from August your tax rate is 20%. Write function `calculate_tax(income)` that takes series `income` that contains montly income (beginning from the beginning of year) and returns the overall tax value. The year can has arbitrary length.\n",
    "\n",
    "\n",
    "**Hint.** you need cumulative sum method `.cumsum()`. Also it is useful to know that `True == 1` и `False == 0`, and use method `.any()`.\n",
    "\n",
    "**Note.** You are not allowed to use loops. You are allowed to use exactly one `if`."
   ]
  },
  {
   "cell_type": "code",
   "execution_count": 27,
   "id": "65e80844",
   "metadata": {
    "deletable": false,
    "nbgrader": {
     "cell_type": "code",
     "checksum": "620013f895738b2725098c9907b9b569",
     "grade": false,
     "grade_id": "cell-1f5373a43de80fad",
     "locked": false,
     "schema_version": 3,
     "solution": true,
     "task": false
    }
   },
   "outputs": [],
   "source": [
    "# YOUR CODE HERE\n",
    "def calculate_tax(income):\n",
    "    cs = income.cumsum()\n",
    "    a = cs.where(cs>1000, 0.13) \n",
    "    df = pd.DataFrame(a.where(a<1000, 0.2), columns=['stavka'])\n",
    "    if a.where(a==0.13).isna().sum() > 0:\n",
    "        df.iloc[a.where(a!=0.13).isna().sum()] = 0.13\n",
    "    return df.stavka.dot(income.T)\n",
    "\n",
    "# raise NotImplementedError()"
   ]
  },
  {
   "cell_type": "code",
   "execution_count": 28,
   "id": "0db073d8",
   "metadata": {},
   "outputs": [
    {
     "name": "stdout",
     "output_type": "stream",
     "text": [
      "Requirement already satisfied: numpy in /home/jupyter-mashishonkov@edu.h-c77de/.local/lib/python3.8/site-packages (1.22.4)\r\n"
     ]
    }
   ],
   "source": [
    "!pip install numpy"
   ]
  },
  {
   "cell_type": "code",
   "execution_count": 29,
   "id": "75cf7049",
   "metadata": {
    "deletable": false,
    "editable": false,
    "nbgrader": {
     "cell_type": "code",
     "checksum": "4941a750666e7adaa1ac6b02730b3c76",
     "grade": true,
     "grade_id": "cell-5abd62c2e61536ea",
     "locked": true,
     "points": 3,
     "schema_version": 3,
     "solution": false,
     "task": false
    }
   },
   "outputs": [],
   "source": [
    "import numpy as np\n",
    "\n",
    "assert np.isclose(calculate_tax(pd.Series([150]*12)), 286.5)\n",
    "assert np.isclose(calculate_tax(pd.Series([100]*12)), 163)\n",
    "assert np.isclose(calculate_tax(pd.Series([50]*12)), 78)\n",
    "assert np.isclose(calculate_tax(pd.Series([1000]*12)), 2260)\n",
    "\n",
    "assert np.isclose(calculate_tax(pd.Series(range(12))*100), 1215)\n",
    "assert np.isclose(calculate_tax(pd.Series(range(11,-1,-1))*100), 1243)\n",
    "income = pd.Series([150, 150, 150, 150, 150, 150, 150, 150], \n",
    "                   index=list('abcdefgh'))\n",
    "assert np.isclose(calculate_tax(income), 166.5)\n",
    "income = pd.Series([150, 150, 150, 150, 150, 150, 150, 150], \n",
    "                   index=[1, 3, 2, 4, 6, 4, 7, 8])\n",
    "assert np.isclose(calculate_tax(income), 166.5)"
   ]
  },
  {
   "cell_type": "code",
   "execution_count": null,
   "id": "622650e8",
   "metadata": {},
   "outputs": [],
   "source": []
  }
 ],
 "metadata": {
  "kernelspec": {
   "display_name": "Python 3 (ipykernel)",
   "language": "python",
   "name": "python3"
  },
  "language_info": {
   "codemirror_mode": {
    "name": "ipython",
    "version": 3
   },
   "file_extension": ".py",
   "mimetype": "text/x-python",
   "name": "python",
   "nbconvert_exporter": "python",
   "pygments_lexer": "ipython3",
   "version": "3.8.10"
  }
 },
 "nbformat": 4,
 "nbformat_minor": 5
}
